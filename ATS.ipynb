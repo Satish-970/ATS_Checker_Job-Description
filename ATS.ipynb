
```python
# ======================================================================================================================
# ATS Resume Matcher: Your Guide to a Better Resume
#
# This tool helps you evaluate how well your resume matches a job description, providing an ATS score
# and suggestions for improvement. It's designed to help you pass through Applicant Tracking Systems (ATS)
# and get your resume seen by recruiters.
#
# To use it, simply copy and paste this entire code block into a single Google Colab cell and run it.
# The interactive UI will appear, allowing you to upload your resume as a PDF or DOCX file and paste
# the job description you're applying for.
#
# No sign-in required - just upload your resume and get instant results! The file upload is done directly
# from your local machine, not from Google Drive. 🚀
# ======================================================================================================================

# Step 1: Install and Import Libraries

# Install necessary libraries
!pip install spacy PyPDF2 scikit-learn python-docx matplotlib ipywidgets --quiet
!python -m spacy download en_core_web_sm --quiet

# Import libraries
import spacy
import PyPDF2
from docx import Document
from sklearn.feature_extraction.text import TfidfVectorizer
from sklearn.metrics.pairwise import cosine_similarity
import matplotlib.pyplot as plt
from google.colab import files
from IPython.display import display, clear_output
import ipywidgets as widgets
import os

print("Setup complete! ✅")

# Step 2: Define Core Functions

# Load the spaCy model
try:
    nlp = spacy.load('en_core_web_sm')
except OSError:
    print("Downloading spaCy model...")
    !python -m spacy download en_core_web_sm --quiet
    nlp = spacy.load('en_core_web_sm')

# Function to extract text from PDF
def extract_pdf_text(pdf_path):
    """
    Extracts text from a PDF file.
    """
    text = ''
    try:
        with open(pdf_path, 'rb') as file:
            reader = PyPDF2.PdfReader(file)
            for page in reader.pages:
                extracted_page_text = page.extract_text()
                if extracted_page_text:
                    text += extracted_page_text + ' '
    except Exception as e:
        return f"Error extracting text from PDF: {e}"
    return text.strip()

# Function to extract text from DOCX
def extract_docx_text(docx_path):
    """
    Extracts text from a DOCX file.
    """
    text = ''
    try:
        doc = Document(docx_path)
        for paragraph in doc.paragraphs:
            text += paragraph.text + ' '
    except Exception as e:
        return f"Error extracting text from DOCX: {e}"
    return text.strip()

# Function to extract text from uploaded resume
def extract_resume_text(file_path):
    """
    Extracts text from a resume file (PDF or DOCX).
    """
    file_extension = file_path.lower().split('.')[-1]

    if file_extension == 'pdf':
        return extract_pdf_text(file_path)
    elif file_extension in ['docx', 'doc']:
        return extract_docx_text(file_path)
    else:
        raise ValueError("Unsupported file format. Please upload PDF or DOCX files only. ⚠️")

# Function to extract keywords
def extract_keywords(text):
    """
    Extracts relevant keywords from text using NLP.
    """
    doc = nlp(text.lower())
    keywords = set()

    # Comprehensive list of technical and professional skills
    tech_skills = {
        'python', 'java', 'javascript', 'sql', 'html', 'css', 'react', 'angular',
        'vue', 'node.js', 'django', 'flask', 'spring', 'hibernate', 'mongodb',
        'postgresql', 'mysql', 'oracle', 'aws', 'azure', 'gcp', 'docker',
        'kubernetes', 'jenkins', 'git', 'github', 'gitlab', 'agile', 'scrum',
        'kanban', 'jira', 'confluence', 'tensorflow', 'pytorch', 'keras',
        'pandas', 'numpy', 'scipy', 'matplotlib', 'seaborn', 'tableau',
        'powerbi', 'excel', 'r', 'scala', 'spark', 'hadoop', 'kafka',
        'elasticsearch', 'redis', 'graphql', 'rest', 'api', 'microservices',
        'devops', 'ci/cd', 'linux', 'windows', 'macos', 'bash', 'powershell',
        'communication', 'leadership', 'teamwork', 'management', 'analytics',
        'problem-solving', 'debugging', 'testing', 'automation'
    }

    # Extract nouns, proper nouns, and technical skills
    for token in doc:
        if token.pos_ in ['NOUN', 'PROPN'] and len(token.text) > 2 and token.text.isalpha():
            keywords.add(token.text)
        elif token.text in tech_skills:
            keywords.add(token.text)

    # Handle multi-word skills and phrases
    text_lower = text.lower()
    multi_word_skills = [
        'machine learning', 'data analysis', 'data science', 'project management',
        'artificial intelligence', 'deep learning', 'natural language processing',
        'computer vision', 'big data', 'business intelligence', 'data mining',
        'software development', 'web development', 'mobile development',
        'full stack', 'front end', 'back end', 'database management',
        'cloud computing', 'cyber security', 'network security',
        'quality assurance', 'user experience', 'user interface'
    ]

    for skill in multi_word_skills:
        if skill in text_lower:
            keywords.add(skill)

    return keywords

# Function to calculate ATS score
def calculate_ats_score(resume_text, job_description):
    """
    Calculates similarity score between resume and job description.
    """
    documents = [resume_text, job_description]
    vectorizer = TfidfVectorizer(
        stop_words='english',
        ngram_range=(1, 2),
        max_features=1000,
        lowercase=True
    )
    tfidf_matrix = vectorizer.fit_transform(documents)
    similarity = cosine_similarity(tfidf_matrix[0:1], tfidf_matrix[1:2])[0][0]
    return similarity * 100

# Function to provide improvement suggestions
def get_suggestions(resume_keywords, job_keywords):
    """
    Provides suggestions based on missing keywords.
    """
    missing = job_keywords - resume_keywords
    if missing:
        missing_list = sorted(list(missing))[:10]  # Top 10 suggestions, sorted
        return f"Consider adding these keywords to your resume: {', '.join(missing_list)} ✍️"
    return "Excellent! Your resume contains all the key skills from the job description. 🌟"

# Function to provide score interpretation
def get_score_feedback(score):
    """
    Provides feedback based on the ATS score.
    """
    if score >= 80:
        return "Excellent match! Your resume aligns very well with this job. 👍"
    elif score >= 65:
        return "Good match! Minor improvements could boost your score. 😊"
    elif score >= 50:
        return "Moderate match. Review suggestions to improve alignment. 🤔"
    elif score >= 35:
        return "Below average match. Consider significant improvements. 😟"
    else:
        return "Low match. Major revisions recommended to align with job requirements. 😥"

# Function to visualize the score
def visualize_score(score):
    """
    Creates a visual representation of the ATS score.
    """
    # Color coding based on score ranges
    if score >= 80:
        color = 'green'
        performance = 'Excellent'
    elif score >= 65:
        color = 'lightgreen'
        performance = 'Good'
    elif score >= 50:
        color = 'orange'
        performance = 'Moderate'
    elif score >= 35:
        color = 'red'
        performance = 'Below Average'
    else:
        color = 'darkred'
        performance = 'Low'

    plt.figure(figsize=(10, 6))
    bars = plt.bar(['ATS Match Score'], [score], color=color, alpha=0.8, width=0.6)

    plt.ylim(0, 100)
    plt.ylabel('Match Percentage (%)', fontsize=12)
    plt.title('Resume ATS Match Analysis', fontsize=14, fontweight='bold')

    # Add score text on the bar
    plt.text(0, score + 2, f'{score:.1f}%\n({performance})',
              ha='center', va='bottom', fontsize=14, fontweight='bold')

    # Add reference lines
    plt.axhline(y=80, color='green', linestyle='--', alpha=0.3, label='Excellent (80%+)')
    plt.axhline(y=65, color='lightgreen', linestyle='--', alpha=0.3, label='Good (65%+)')
    plt.axhline(y=50, color='orange', linestyle='--', alpha=0.3, label='Moderate (50%+)')
    plt.axhline(y=35, color='red', linestyle='--', alpha=0.3, label='Below Average (35%+)')

    plt.legend(loc='upper right')
    plt.grid(True, alpha=0.3)
    plt.tight_layout()
    plt.show()

print("All functions defined successfully. ⚙️")

# Step 3: Run the ATS Checker (GUI version)

# Global variable to store uploaded file content
uploaded_file_data = {}

# UI Widgets
output_area = widgets.Output()

upload_button = widgets.FileUpload(accept='.pdf, .docx, .doc', description='Upload Resume...', multiple=False)
job_desc_text = widgets.Textarea(description='Job Description:', placeholder='Paste the complete job posting here...', layout=widgets.Layout(width='auto', height='150px'))
check_button = widgets.Button(description='Check ATS Score', button_style='primary')

# Function to handle file upload
def handle_upload(change):
    global uploaded_file_data
    clear_output(wait=True)
    with output_area:
        uploaded_files = change.new
        if not uploaded_files:
            print("No file was uploaded. Please try again. 😕")
            return

        file_name = list(uploaded_files.keys())[0]
        uploaded_file_data = uploaded_files[file_name]
        print(f"Successfully uploaded: {file_name} 🎉")

        # Save file temporarily
        with open(file_name, 'wb') as f:
            f.write(uploaded_file_data['content'])

        # Add a file path to the uploaded data for later use
        uploaded_file_data['path'] = file_name

        display(upload_button, job_desc_text, check_button, output_area)

# Function to handle button click
def on_button_clicked(b):
    clear_output(wait=True)
    with output_area:
        if not uploaded_file_data:
            print("Please upload a resume first. 📄")
            return

        job_desc = job_desc_text.value

        if not job_desc.strip():
            print("Job description cannot be empty. Please paste the job description. 🚫")
            return

        file_name = uploaded_file_data.get('path')
        if not file_name or not os.path.exists(file_name):
             print("Error: Resume file not found. Please re-upload. ❌")
             return

        print("\nAnalyzing your resume against the job description... 📊")

        try:
            resume_text = extract_resume_text(file_name)
            if len(resume_text.strip()) < 100:
                print("Warning: Very short resume text extracted. Please ensure your PDF/DOCX is readable. 🧐")

            resume_keywords = extract_keywords(resume_text)
            job_keywords = extract_keywords(job_desc)
            ats_score = calculate_ats_score(resume_text, job_desc)

            print("\n" + "="*60)
            print("ATS MATCH ANALYSIS RESULTS")
            print("="*60)

            print(f"\nATS Match Score: {ats_score:.2f}%")
            print(f"Score Category: {get_score_feedback(ats_score)}")

            print(f"\nKeyword Analysis:")
            print(f"- Resume keywords found: {len(resume_keywords)}")
            print(f"- Job description keywords: {len(job_keywords)}")
            print(f"- Matching keywords: {len(resume_keywords & job_keywords)}")

            matching_keywords = resume_keywords & job_keywords
            if matching_keywords:
                print(f"\nMatching skills found: {', '.join(sorted(list(matching_keywords))[:15])} ✅")

            print(f"\nImprovement Suggestions:")
            print(get_suggestions(resume_keywords, job_keywords))

            visualize_score(ats_score)

            print("\nAdditional Tips to Boost Your Score: ✨")
            if ats_score < 65:
                print("- Use exact keywords from the job description in your resume.")
                print("- Include relevant skills in a dedicated skills section.")
                print("- Tailor your experience descriptions to match job requirements.")
                print("- Use industry-standard terminology.")

            print("- Ensure your resume is in a simple, ATS-friendly format.")
            print("- Use standard section headings (Experience, Skills, Education).")
            print("- Avoid images, tables, and complex formatting.")

        except Exception as e:
            print(f"Error during analysis: {e}")

        finally:
            if os.path.exists(file_name):
                os.remove(file_name)
                print(f"\nTemporary file '{file_name}' removed. 🗑️")

        print("\n" + "="*60)
        print("Analysis Complete! Good luck! 🍀")
        print("="*60)

# Link the widgets to the functions
upload_button.observe(handle_upload, names='value')
check_button.on_click(on_button_clicked)

# Display the UI
print("Please upload your resume file and paste the job description to get started. 👇")
display(upload_button, job_desc_text, check_button, output_area)
```
