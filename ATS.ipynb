{
 "cells": [
  {
   "cell_type": "markdown",
   "metadata": {
    "id": "view-in-github",
    "colab_type": "text"
   },
   "source": [
    "<a href=\"https://colab.research.google.com/github/Satish-970/ATS_Checker_Job-Description/blob/main/ats_matcher.ipynb\" target=\"_parent\"><img src=\"https://colab.research.google.com/assets/colab-badge.svg\" alt=\"Open In Colab\"/></a>"
   ]
  },
  {
   "cell_type": "markdown",
   "metadata": {
    "id": "UBKZopwuicAa"
   },
   "source": [
    "# ATS Resume Matcher: Your Guide to a Better Resume\n\nThis tool helps you evaluate how well your resume matches a job description, providing an ATS score and suggestions for improvement. It's designed to help you pass through Applicant Tracking Systems (ATS) and get your resume seen by recruiters.\n\nTo use it, run all the code cells sequentially. You'll be prompted to install dependencies, then access a web interface to upload your resume (PDF or DOCX) and paste the job description. No Google Drive sign-in is required - uploads are done directly from your device via a Streamlit web app. 🚀\n\n### How to Run\n1. Run the first cell to install dependencies.\n2. Run the second cell to start the Streamlit app.\n3. Open the provided local URL (e.g., `http://localhost:8501`) in your browser.\n4. Upload your resume and paste the job description to get results.\n\n**Note**: If running locally, ensure you have Python installed. For deployment, see instructions at the end."
   ]
  },
  {
   "cell_type": "code",
   "execution_count": null,
   "metadata": {
    "id": "rA7obNYnhCJE"
   },
   "outputs": [],
   "source": [
    "# Install necessary libraries\n!pip install streamlit spacy PyPDF2 python-docx scikit-learn matplotlib --quiet\n!python -m spacy download en_core_web_sm --quiet\n\nprint(\"Setup complete! ✅\")"
   ]
  },
  {
   "cell_type": "code",
   "execution_count": null,
   "metadata": {
    "id": "2ShK99ZUi_PK"
   },
   "outputs": [],
   "source": [
    "# Define the Streamlit app\n\n%%writefile ats_matcher.py\nimport streamlit as st\nimport spacy\nimport PyPDF2\nfrom docx import Document\nfrom sklearn.feature_extraction.text import TfidfVectorizer\nfrom sklearn.metrics.pairwise import cosine_similarity\nimport matplotlib.pyplot as plt\nimport os\n\n# Streamlit app title and description\nst.title(\"ATS Resume Matcher\")\nst.markdown(\"\"\"\nThis tool evaluates how well your resume matches a job description, providing an ATS score and suggestions for improvement. \nUpload your resume (PDF or DOCX) and paste the job description to get instant results! 🚀  \n**No sign-in required** - upload directly from your device.\n\"\"\")\n\n# Load spaCy model\ntry:\n    nlp = spacy.load('en_core_web_sm')\nexcept OSError:\n    st.info(\"Downloading spaCy model...\")\n    os.system(\"python -m spacy download en_core_web_sm --quiet\")\n    nlp = spacy.load('en_core_web_sm')\n\n# Function to extract text from PDF\ndef extract_pdf_text(pdf_file):\n    text = ''\n    try:\n        reader = PyPDF2.PdfReader(pdf_file)\n        for page in reader.pages:\n            extracted_page_text = page.extract_text()\n            if extracted_page_text:\n                text += extracted_page_text + ' '\n    except Exception as e:\n        st.error(f\"Error extracting text from PDF: {e}\")\n        return \"\"\n    return text.strip()\n\n# Function to extract text from DOCX\ndef extract_docx_text(docx_file):\n    text = ''\n    try:\n        doc = Document(docx_file)\n        for paragraph in doc.paragraphs:\n            text += paragraph.text + ' '\n    except Exception as e:\n        st.error(f\"Error extracting text from DOCX: {e}\")\n        return \"\"\n    return text.strip()\n\n# Function to extract text from uploaded resume\ndef extract_resume_text(uploaded_file):\n    file_extension = uploaded_file.name.lower().split('.')[-1]\n    if file_extension == 'pdf':\n        return extract_pdf_text(uploaded_file)\n    elif file_extension in ['docx', 'doc']:\n        return extract_docx_text(uploaded_file)\n    else:\n        st.error(\"Unsupported file format. Please upload PDF or DOCX files only. ⚠️\")\n        return \"\"\n\n# Function to extract keywords\ndef extract_keywords(text):\n    doc = nlp(text.lower())\n    keywords = set()\n    \n    # Comprehensive list of technical and professional skills\n    tech_skills = {\n        'python', 'java', 'javascript', 'sql', 'html', 'css', 'react', 'angular', \n        'vue', 'node.js', 'django', 'flask', 'spring', 'hibernate', 'mongodb', \n        'postgresql', 'mysql', 'oracle', 'aws', 'azure', 'gcp', 'docker', \n        'kubernetes', 'jenkins', 'git', 'github', 'gitlab', 'agile', 'scrum', \n        'kanban', 'jira', 'confluence', 'tensorflow', 'pytorch', 'keras', \n        'pandas', 'numpy', 'scipy', 'matplotlib', 'seaborn', 'tableau', \n        'powerbi', 'excel', 'r', 'scala', 'spark', 'hadoop', 'kafka', \n        'elasticsearch', 'redis', 'graphql', 'rest', 'api', 'microservices',\n        'devops', 'ci/cd', 'linux', 'windows', 'macos', 'bash', 'powershell',\n        'communication', 'leadership', 'teamwork', 'management', 'analytics',\n        'problem-solving', 'debugging', 'testing', 'automation'\n    }\n    \n    # Extract nouns, proper nouns, and technical skills\n    for token in doc:\n        if token.pos_ in ['NOUN', 'PROPN'] and len(token.text) > 2 and token.text.isalpha():\n            keywords.add(token.text)\n        elif token.text in tech_skills:\n            keywords.add(token.text)\n    \n    # Handle multi-word skills and phrases\n    text_lower = text.lower()\n    multi_word_skills = [\n        'machine learning', 'data analysis', 'data science', 'project management',\n        'artificial intelligence', 'deep learning', 'natural language processing',\n        'computer vision', 'big data', 'business intelligence', 'data mining',\n        'software development', 'web development', 'mobile development',\n        'full stack', 'front end', 'back end', 'database management',\n        'cloud computing', 'cyber security', 'network security',\n        'quality assurance', 'user experience', 'user interface'\n    ]\n    \n    for skill in multi_word_skills:\n        if skill in text_lower:\n            keywords.add(skill)\n    \n    return keywords\n\n# Function to calculate ATS score\ndef calculate_ats_score(resume_text, job_description):\n    documents = [resume_text, job_description]\n    vectorizer = TfidfVectorizer(\n        stop_words='english', \n        ngram_range=(1, 2),\n        max_features=1000,\n        lowercase=True\n    )\n    tfidf_matrix = vectorizer.fit_transform(documents)\n    similarity = cosine_similarity(tfidf_matrix[0:1], tfidf_matrix[1:2])[0][0]\n    return similarity * 100\n\n# Function to provide improvement suggestions\ndef get_suggestions(resume_keywords, job_keywords):\n    missing = job_keywords - resume_keywords\n    if missing:\n        missing_list = sorted(list(missing))[:10]  # Top 10 suggestions\n        return f\"Consider adding these keywords to your resume: {', '.join(missing_list)} ✍️\"\n    return \"Excellent! Your resume contains all the key skills from the job description. 🌟\"\n\n# Function to provide score interpretation\ndef get_score_feedback(score):\n    if score >= 80:\n        return \"Excellent match! Your resume aligns very well with this job. 👍\"\n    elif score >= 65:\n        return \"Good match! Minor improvements could boost your score. 😊\"\n    elif score >= 50:\n        return \"Moderate match. Review suggestions to improve alignment. 🤔\"\n    elif score >= 35:\n        return \"Below average match. Consider significant improvements. 😟\"\n    else:\n        return \"Low match. Major revisions recommended to align with job requirements. 😥\"\n\n# Function to visualize the score\ndef visualize_score(score):\n    # Color coding based on score ranges\n    if score >= 80:\n        color = 'green'\n        performance = 'Excellent'\n    elif score >= 65:\n        color = 'lightgreen'\n        performance = 'Good'\n    elif score >= 50:\n        color = 'orange'\n        performance = 'Moderate'\n    elif score >= 35:\n        color = 'red'\n        performance = 'Below Average'\n    else:\n        color = 'darkred'\n        performance = 'Low'\n    \n    fig, ax = plt.subplots(figsize=(10, 6))\n    bars = ax.bar(['ATS Match Score'], [score], color=color, alpha=0.8, width=0.6)\n    \n    ax.set_ylim(0, 100)\n    ax.set_ylabel('Match Percentage (%)', fontsize=12)\n    ax.set_title('Resume ATS Match Analysis', fontsize=14, fontweight='bold')\n    \n    # Add score text on the bar\n    ax.text(0, score + 2, f'{score:.1f}%\\n({performance})', \n            ha='center', va='bottom', fontsize=14, fontweight='bold')\n    \n    # Add reference lines\n    ax.axhline(y=80, color='green', linestyle='--', alpha=0.3, label='Excellent (80%+)')\n    ax.axhline(y=65, color='lightgreen', linestyle='--', alpha=0.3, label='Good (65%+)')\n    ax.axhline(y=50, color='orange', linestyle='--', alpha=0.3, label='Moderate (50%+)')\n    ax.axhline(y=35, color='red', linestyle='--', alpha=0.3, label='Below Average (35%+)')\n    \n    ax.legend(loc='upper right')\n    ax.grid(True, alpha=0.3)\n    plt.tight_layout()\n    st.pyplot(fig)\n\n# Main Streamlit app logic\ndef run_ats_checker():\n    st.subheader(\"Step 1: Upload Your Resume\")\n    uploaded_file = st.file_uploader(\"Choose a resume file (PDF or DOCX)\", type=['pdf', 'docx', 'doc'])\n    \n    if uploaded_file:\n        st.success(f\"Successfully uploaded: {uploaded_file.name} 🎉\")\n        resume_text = extract_resume_text(uploaded_file)\n        if not resume_text or len(resume_text.strip()) < 100:\n            st.warning(\"Very short resume text extracted. Please ensure your PDF/DOCX is readable. 🧐\")\n            return\n        \n        st.subheader(\"Step 2: Paste the Job Description\")\n        job_desc = st.text_area(\"Paste the complete job description here:\", height=200)\n        \n        if job_desc and len(job_desc.strip()) < 50:\n            st.warning(\"Job description seems very short. Consider pasting the complete job posting for better analysis. 🤏\")\n        \n        if st.button(\"Analyze Resume\"):\n            if not job_desc.strip():\n                st.error(\"Job description cannot be empty. Please paste a valid job description. 🚫\")\n                return\n            \n            st.info(\"Analyzing your resume against the job description... 📊\")\n            \n            try:\n                # Extract keywords and calculate score\n                resume_keywords = extract_keywords(resume_text)\n                job_keywords = extract_keywords(job_desc)\n                ats_score = calculate_ats_score(resume_text, job_desc)\n                \n                # Display results\n                st.markdown(\"### ATS Match Analysis Results\")\n                st.markdown(f\"**ATS Match Score:** {ats_score:.2f}%\")\n                st.markdown(f\"**Score Category:** {get_score_feedback(ats_score)}\")\n                \n                st.markdown(\"#### Keyword Analysis\")\n                st.markdown(f\"- Resume keywords found: {len(resume_keywords)}\")\n                st.markdown(f\"- Job description keywords: {len(job_keywords)}\")\n                st.markdown(f\"- Matching keywords: {len(resume_keywords & job_keywords)}\")\n                \n                matching_keywords = resume_keywords & job_keywords\n                if matching_keywords:\n                    st.markdown(f\"**Matching skills found:** {', '.join(sorted(list(matching_keywords))[:15])} ✅\")\n                \n                st.markdown(\"#### Improvement Suggestions\")\n                st.markdown(get_suggestions(resume_keywords, job_keywords))\n                \n                # Show visualization\n                st.markdown(\"#### ATS Score Visualization\")\n                visualize_score(ats_score)\n                \n                # Additional tips\n                st.markdown(\"#### Additional Tips to Boost Your Score ✨\")\n                if ats_score < 65:\n                    st.markdown(\"\"\"\n                    - Use exact keywords from the job description in your resume.\n                    - Include relevant skills in a dedicated skills section.\n                    - Tailor your experience descriptions to match job requirements.\n                    - Use industry-standard terminology.\n                    \"\"\")\n                st.markdown(\"\"\"\n                - Ensure your resume is in a simple, ATS-friendly format.\n                - Use standard section headings (Experience, Skills, Education).\n                - Avoid images, tables, and complex formatting.\n                \"\"\")\n                \n                st.markdown(\"**Analysis Complete! Good luck! 🍀**\")\n            \n            except Exception as e:\n                st.error(f\"Error during analysis: {e}\")\n    \n    else:\n        st.info(\"Please upload a resume to start the analysis.\")\n\n# Run the app\nif __name__ == \"__main__\":\n    run_ats_checker()\n\nprint(\"Streamlit app code saved to 'ats_matcher.py'. Run the next cell to start the app. ⚙️\")"
   ]
  },
  {
   "cell_type": "code",
   "execution_count": null,
   "metadata": {
    "id": "run_checker"
   },
   "outputs": [],
   "source": [
    "# Run the Streamlit app\n# This will start a local web server. Open the provided URL (e.g., http://localhost:8501) in your browser.\n!streamlit run ats_matcher.py"
   ]
  },
  {
   "cell_type": "markdown",
   "metadata": {
    "id": "deploy_instructions"
   },
   "source": [
    "## Deployment Instructions\n\nTo share this app online (e.g., via Streamlit Cloud):\n1. **Push to GitHub**:\n   - Save this notebook as `ats_matcher.ipynb`.\n   - Create a GitHub repository and upload the notebook.\n   - Create a `requirements.txt` file with the following content:\n     ```\n     streamlit\n     spacy\n     PyPDF2\n     python-docx\n     scikit-learn\n     matplotlib\n     ```\n2. **Deploy to Streamlit Cloud**:\n   - Sign up at `cloud.streamlit.io`.\n   - Connect your GitHub repository.\n   - Select `ats_matcher.py` as the main script and deploy.\n3. **Access the App**:\n   - Once deployed, you'll get a public URL where users can upload their resume and job description.\n\n**Note**: Ensure your resume files are text-based (not scanned images) for accurate text extraction. For local testing, run the previous cell and access the app in your browser."
   ]
  }
 ],
 "metadata": {
  "colab": {
   "provenance": [],
   "authorship_tag": "ABX9TyNHu0/D7htgf+qQfSbhYpIc",
   "include_colab_link": true
  },
  "kernelspec": {
   "display_name": "Python 3",
   "name": "python3"
  },
  "language_info": {
   "name": "python"
  }
 },
 "nbformat": 4,
 "nbformat_minor": 0
}
