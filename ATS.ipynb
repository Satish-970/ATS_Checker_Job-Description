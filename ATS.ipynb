{
  "nbformat": 4,
  "nbformat_minor": 0,
  "metadata": {
    "colab": {
      "provenance": [],
      "authorship_tag": "ABX9TyPicvy79wj2HtJoGLpRbiQC",
      "include_colab_link": true
    },
    "kernelspec": {
      "name": "python3",
      "display_name": "Python 3"
    },
    "language_info": {
      "name": "python"
    },
    "widgets": {
      "application/vnd.jupyter.widget-state+json": {
        "4191a16655d24872a11136dcda1b070e": {
          "model_module": "@jupyter-widgets/controls",
          "model_name": "FileUploadModel",
          "model_module_version": "1.5.0",
          "state": {
            "_counter": 1,
            "_dom_classes": [],
            "_model_module": "@jupyter-widgets/controls",
            "_model_module_version": "1.5.0",
            "_model_name": "FileUploadModel",
            "_view_count": null,
            "_view_module": "@jupyter-widgets/controls",
            "_view_module_version": "1.5.0",
            "_view_name": "FileUploadView",
            "accept": ".pdf",
            "button_style": "",
            "data": [
              null
            ],
            "description": "Upload Resume PDF",
            "description_tooltip": null,
            "disabled": false,
            "error": "",
            "icon": "upload",
            "layout": "IPY_MODEL_01dcfcb22ece41d0ad89b11a0f4a64df",
            "metadata": [
              {
                "name": "Resume.pdf",
                "type": "application/pdf",
                "size": 190702,
                "lastModified": 1754924421576
              }
            ],
            "multiple": false,
            "style": "IPY_MODEL_e9086fca821446fbac97e2b3b9823279"
          }
        },
        "01dcfcb22ece41d0ad89b11a0f4a64df": {
          "model_module": "@jupyter-widgets/base",
          "model_name": "LayoutModel",
          "model_module_version": "1.2.0",
          "state": {
            "_model_module": "@jupyter-widgets/base",
            "_model_module_version": "1.2.0",
            "_model_name": "LayoutModel",
            "_view_count": null,
            "_view_module": "@jupyter-widgets/base",
            "_view_module_version": "1.2.0",
            "_view_name": "LayoutView",
            "align_content": null,
            "align_items": null,
            "align_self": null,
            "border": null,
            "bottom": null,
            "display": null,
            "flex": null,
            "flex_flow": null,
            "grid_area": null,
            "grid_auto_columns": null,
            "grid_auto_flow": null,
            "grid_auto_rows": null,
            "grid_column": null,
            "grid_gap": null,
            "grid_row": null,
            "grid_template_areas": null,
            "grid_template_columns": null,
            "grid_template_rows": null,
            "height": null,
            "justify_content": null,
            "justify_items": null,
            "left": null,
            "margin": null,
            "max_height": null,
            "max_width": null,
            "min_height": null,
            "min_width": null,
            "object_fit": null,
            "object_position": null,
            "order": null,
            "overflow": null,
            "overflow_x": null,
            "overflow_y": null,
            "padding": null,
            "right": null,
            "top": null,
            "visibility": null,
            "width": null
          }
        },
        "e9086fca821446fbac97e2b3b9823279": {
          "model_module": "@jupyter-widgets/controls",
          "model_name": "ButtonStyleModel",
          "model_module_version": "1.5.0",
          "state": {
            "_model_module": "@jupyter-widgets/controls",
            "_model_module_version": "1.5.0",
            "_model_name": "ButtonStyleModel",
            "_view_count": null,
            "_view_module": "@jupyter-widgets/base",
            "_view_module_version": "1.2.0",
            "_view_name": "StyleView",
            "button_color": null,
            "font_weight": ""
          }
        },
        "85ca29f4a5044ba697b34c5df87a2592": {
          "model_module": "@jupyter-widgets/controls",
          "model_name": "TextareaModel",
          "model_module_version": "1.5.0",
          "state": {
            "_dom_classes": [],
            "_model_module": "@jupyter-widgets/controls",
            "_model_module_version": "1.5.0",
            "_model_name": "TextareaModel",
            "_view_count": null,
            "_view_module": "@jupyter-widgets/controls",
            "_view_module_version": "1.5.0",
            "_view_name": "TextareaView",
            "continuous_update": true,
            "description": "Job Desc:",
            "description_tooltip": null,
            "disabled": false,
            "layout": "IPY_MODEL_7e12958efe4345d898c1df188ecf433a",
            "placeholder": "Paste job description here",
            "rows": null,
            "style": "IPY_MODEL_2903ff520b114ec19fcfdaf264ceb624",
            "value": ""
          }
        },
        "7e12958efe4345d898c1df188ecf433a": {
          "model_module": "@jupyter-widgets/base",
          "model_name": "LayoutModel",
          "model_module_version": "1.2.0",
          "state": {
            "_model_module": "@jupyter-widgets/base",
            "_model_module_version": "1.2.0",
            "_model_name": "LayoutModel",
            "_view_count": null,
            "_view_module": "@jupyter-widgets/base",
            "_view_module_version": "1.2.0",
            "_view_name": "LayoutView",
            "align_content": null,
            "align_items": null,
            "align_self": null,
            "border": null,
            "bottom": null,
            "display": null,
            "flex": null,
            "flex_flow": null,
            "grid_area": null,
            "grid_auto_columns": null,
            "grid_auto_flow": null,
            "grid_auto_rows": null,
            "grid_column": null,
            "grid_gap": null,
            "grid_row": null,
            "grid_template_areas": null,
            "grid_template_columns": null,
            "grid_template_rows": null,
            "height": null,
            "justify_content": null,
            "justify_items": null,
            "left": null,
            "margin": null,
            "max_height": null,
            "max_width": null,
            "min_height": null,
            "min_width": null,
            "object_fit": null,
            "object_position": null,
            "order": null,
            "overflow": null,
            "overflow_x": null,
            "overflow_y": null,
            "padding": null,
            "right": null,
            "top": null,
            "visibility": null,
            "width": null
          }
        },
        "2903ff520b114ec19fcfdaf264ceb624": {
          "model_module": "@jupyter-widgets/controls",
          "model_name": "DescriptionStyleModel",
          "model_module_version": "1.5.0",
          "state": {
            "_model_module": "@jupyter-widgets/controls",
            "_model_module_version": "1.5.0",
            "_model_name": "DescriptionStyleModel",
            "_view_count": null,
            "_view_module": "@jupyter-widgets/base",
            "_view_module_version": "1.2.0",
            "_view_name": "StyleView",
            "description_width": ""
          }
        },
        "1a6ab4bb833646848a0692124ef39a35": {
          "model_module": "@jupyter-widgets/controls",
          "model_name": "ButtonModel",
          "model_module_version": "1.5.0",
          "state": {
            "_dom_classes": [],
            "_model_module": "@jupyter-widgets/controls",
            "_model_module_version": "1.5.0",
            "_model_name": "ButtonModel",
            "_view_count": null,
            "_view_module": "@jupyter-widgets/controls",
            "_view_module_version": "1.5.0",
            "_view_name": "ButtonView",
            "button_style": "",
            "description": "Check ATS Score",
            "disabled": false,
            "icon": "",
            "layout": "IPY_MODEL_6040395a81074ce4846fe5dbd6adee6a",
            "style": "IPY_MODEL_78bef1902ec74538a0c3efe1adcc3213",
            "tooltip": ""
          }
        },
        "6040395a81074ce4846fe5dbd6adee6a": {
          "model_module": "@jupyter-widgets/base",
          "model_name": "LayoutModel",
          "model_module_version": "1.2.0",
          "state": {
            "_model_module": "@jupyter-widgets/base",
            "_model_module_version": "1.2.0",
            "_model_name": "LayoutModel",
            "_view_count": null,
            "_view_module": "@jupyter-widgets/base",
            "_view_module_version": "1.2.0",
            "_view_name": "LayoutView",
            "align_content": null,
            "align_items": null,
            "align_self": null,
            "border": null,
            "bottom": null,
            "display": null,
            "flex": null,
            "flex_flow": null,
            "grid_area": null,
            "grid_auto_columns": null,
            "grid_auto_flow": null,
            "grid_auto_rows": null,
            "grid_column": null,
            "grid_gap": null,
            "grid_row": null,
            "grid_template_areas": null,
            "grid_template_columns": null,
            "grid_template_rows": null,
            "height": null,
            "justify_content": null,
            "justify_items": null,
            "left": null,
            "margin": null,
            "max_height": null,
            "max_width": null,
            "min_height": null,
            "min_width": null,
            "object_fit": null,
            "object_position": null,
            "order": null,
            "overflow": null,
            "overflow_x": null,
            "overflow_y": null,
            "padding": null,
            "right": null,
            "top": null,
            "visibility": null,
            "width": null
          }
        },
        "78bef1902ec74538a0c3efe1adcc3213": {
          "model_module": "@jupyter-widgets/controls",
          "model_name": "ButtonStyleModel",
          "model_module_version": "1.5.0",
          "state": {
            "_model_module": "@jupyter-widgets/controls",
            "_model_module_version": "1.5.0",
            "_model_name": "ButtonStyleModel",
            "_view_count": null,
            "_view_module": "@jupyter-widgets/base",
            "_view_module_version": "1.2.0",
            "_view_name": "StyleView",
            "button_color": null,
            "font_weight": ""
          }
        },
        "a30e337608fc4d8fb562bd5774f5f9ea": {
          "model_module": "@jupyter-widgets/output",
          "model_name": "OutputModel",
          "model_module_version": "1.0.0",
          "state": {
            "_dom_classes": [],
            "_model_module": "@jupyter-widgets/output",
            "_model_module_version": "1.0.0",
            "_model_name": "OutputModel",
            "_view_count": null,
            "_view_module": "@jupyter-widgets/output",
            "_view_module_version": "1.0.0",
            "_view_name": "OutputView",
            "layout": "IPY_MODEL_be3387ce39cc4931aebffa54af6992eb",
            "msg_id": "",
            "outputs": [
              {
                "output_type": "stream",
                "name": "stdout",
                "text": [
                  "ATS Match Score: 15.40%\n",
                  "Suggestions: Add policies, details, end, package, telecom, thakur, june’26, i, -, ee, requirements, documents, candidates, person, location, contact, pan, duration, veracity, writtentest, hcltech, solutions, life, people, link, interview, spark, year, applications, stream, customers, cse, recruiters, formals, event, government, description, online, drive, lapse, arrears, placement, logistics, august, shortlisting, potential, progress, timeline, engineer, interviews, nr, revenues, vision, days, trainee, month, values, clause, oc.37764.2026.53210, consumer, informatica, power, cv, countries, months, communication, pre, copies, name, clients, stipend, jan’26, pl, form, student, electronics, defaulters, schedule, announcement, resume, misconduct, program, decription, google, manufacturing, automation, *, diligence, candidate, starts, aug, reporting, set, campus, retail, b.tech, energy, capabilities, statement, unix, action, pool, software, snowflake, locations, sql+dbt, job, ece, time, size, pm, ppt, bi, https://www.hcltech.com//, +, place, healthcare, rs, d, dress, interest, tech, cpg, sheet, skill, date, school, venue, listing, july, profile, attachements, students, transportation, disclaimer, india, selection, salary, travel, digital, mainframe, june, request, ums, process, passport, response, media, services, de, semiconductor, eligibility, tpcs, sciences, career, registration, graduate, nv, website, batch, elimination, type, policy, deadline, company, designation, bond, utilities, verticals, slide, entertainment, https://forms.gle/gvpnvmndx6s4us2f8, notes, test, start, processing, mandatory, specialties, photographs, gpc, filtering, credentials, instance, percent, accordance, criteria, .net, aerospace, gender, sources, industry, robotics, walkthrough, drives, products, defense, eee, concerns, ctc to your resume.\n"
                ]
              },
              {
                "output_type": "display_data",
                "data": {
                  "text/plain": "<Figure size 640x480 with 1 Axes>",
                  "image/png": "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\n"
                },
                "metadata": {}
              }
            ]
          }
        },
        "be3387ce39cc4931aebffa54af6992eb": {
          "model_module": "@jupyter-widgets/base",
          "model_name": "LayoutModel",
          "model_module_version": "1.2.0",
          "state": {
            "_model_module": "@jupyter-widgets/base",
            "_model_module_version": "1.2.0",
            "_model_name": "LayoutModel",
            "_view_count": null,
            "_view_module": "@jupyter-widgets/base",
            "_view_module_version": "1.2.0",
            "_view_name": "LayoutView",
            "align_content": null,
            "align_items": null,
            "align_self": null,
            "border": null,
            "bottom": null,
            "display": null,
            "flex": null,
            "flex_flow": null,
            "grid_area": null,
            "grid_auto_columns": null,
            "grid_auto_flow": null,
            "grid_auto_rows": null,
            "grid_column": null,
            "grid_gap": null,
            "grid_row": null,
            "grid_template_areas": null,
            "grid_template_columns": null,
            "grid_template_rows": null,
            "height": null,
            "justify_content": null,
            "justify_items": null,
            "left": null,
            "margin": null,
            "max_height": null,
            "max_width": null,
            "min_height": null,
            "min_width": null,
            "object_fit": null,
            "object_position": null,
            "order": null,
            "overflow": null,
            "overflow_x": null,
            "overflow_y": null,
            "padding": null,
            "right": null,
            "top": null,
            "visibility": null,
            "width": null
          }
        }
      }
    }
  },
  "cells": [
    {
      "cell_type": "markdown",
      "metadata": {
        "id": "view-in-github",
        "colab_type": "text"
      },
      "source": [
        "<a href=\"https://colab.research.google.com/github/Satish-970/ATS_Checker_Job-Description/blob/main/ATS.ipynb\" target=\"_parent\"><img src=\"https://colab.research.google.com/assets/colab-badge.svg\" alt=\"Open In Colab\"/></a>"
      ]
    },
    {
      "cell_type": "markdown",
      "source": [
        "Setting up the Colab Environment"
      ],
      "metadata": {
        "id": "UBKZopwuicAa"
      }
    },
    {
      "cell_type": "markdown",
      "source": [],
      "metadata": {
        "id": "zyAzofCligwH"
      }
    },
    {
      "cell_type": "code",
      "execution_count": 9,
      "metadata": {
        "colab": {
          "base_uri": "https://localhost:8080/"
        },
        "id": "rA7obNYnhCJE",
        "outputId": "d70de3f4-64f1-41fd-e548-2bdf8faefade"
      },
      "outputs": [
        {
          "output_type": "stream",
          "name": "stdout",
          "text": [
            "Requirement already satisfied: spacy in /usr/local/lib/python3.11/dist-packages (3.8.7)\n",
            "Requirement already satisfied: PyPDF2 in /usr/local/lib/python3.11/dist-packages (3.0.1)\n",
            "Requirement already satisfied: scikit-learn in /usr/local/lib/python3.11/dist-packages (1.6.1)\n",
            "Requirement already satisfied: spacy-legacy<3.1.0,>=3.0.11 in /usr/local/lib/python3.11/dist-packages (from spacy) (3.0.12)\n",
            "Requirement already satisfied: spacy-loggers<2.0.0,>=1.0.0 in /usr/local/lib/python3.11/dist-packages (from spacy) (1.0.5)\n",
            "Requirement already satisfied: murmurhash<1.1.0,>=0.28.0 in /usr/local/lib/python3.11/dist-packages (from spacy) (1.0.13)\n",
            "Requirement already satisfied: cymem<2.1.0,>=2.0.2 in /usr/local/lib/python3.11/dist-packages (from spacy) (2.0.11)\n",
            "Requirement already satisfied: preshed<3.1.0,>=3.0.2 in /usr/local/lib/python3.11/dist-packages (from spacy) (3.0.10)\n",
            "Requirement already satisfied: thinc<8.4.0,>=8.3.4 in /usr/local/lib/python3.11/dist-packages (from spacy) (8.3.6)\n",
            "Requirement already satisfied: wasabi<1.2.0,>=0.9.1 in /usr/local/lib/python3.11/dist-packages (from spacy) (1.1.3)\n",
            "Requirement already satisfied: srsly<3.0.0,>=2.4.3 in /usr/local/lib/python3.11/dist-packages (from spacy) (2.5.1)\n",
            "Requirement already satisfied: catalogue<2.1.0,>=2.0.6 in /usr/local/lib/python3.11/dist-packages (from spacy) (2.0.10)\n",
            "Requirement already satisfied: weasel<0.5.0,>=0.1.0 in /usr/local/lib/python3.11/dist-packages (from spacy) (0.4.1)\n",
            "Requirement already satisfied: typer<1.0.0,>=0.3.0 in /usr/local/lib/python3.11/dist-packages (from spacy) (0.16.0)\n",
            "Requirement already satisfied: tqdm<5.0.0,>=4.38.0 in /usr/local/lib/python3.11/dist-packages (from spacy) (4.67.1)\n",
            "Requirement already satisfied: numpy>=1.19.0 in /usr/local/lib/python3.11/dist-packages (from spacy) (2.0.2)\n",
            "Requirement already satisfied: requests<3.0.0,>=2.13.0 in /usr/local/lib/python3.11/dist-packages (from spacy) (2.32.3)\n",
            "Requirement already satisfied: pydantic!=1.8,!=1.8.1,<3.0.0,>=1.7.4 in /usr/local/lib/python3.11/dist-packages (from spacy) (2.11.7)\n",
            "Requirement already satisfied: jinja2 in /usr/local/lib/python3.11/dist-packages (from spacy) (3.1.6)\n",
            "Requirement already satisfied: setuptools in /usr/local/lib/python3.11/dist-packages (from spacy) (75.2.0)\n",
            "Requirement already satisfied: packaging>=20.0 in /usr/local/lib/python3.11/dist-packages (from spacy) (25.0)\n",
            "Requirement already satisfied: langcodes<4.0.0,>=3.2.0 in /usr/local/lib/python3.11/dist-packages (from spacy) (3.5.0)\n",
            "Requirement already satisfied: scipy>=1.6.0 in /usr/local/lib/python3.11/dist-packages (from scikit-learn) (1.16.1)\n",
            "Requirement already satisfied: joblib>=1.2.0 in /usr/local/lib/python3.11/dist-packages (from scikit-learn) (1.5.1)\n",
            "Requirement already satisfied: threadpoolctl>=3.1.0 in /usr/local/lib/python3.11/dist-packages (from scikit-learn) (3.6.0)\n",
            "Requirement already satisfied: language-data>=1.2 in /usr/local/lib/python3.11/dist-packages (from langcodes<4.0.0,>=3.2.0->spacy) (1.3.0)\n",
            "Requirement already satisfied: annotated-types>=0.6.0 in /usr/local/lib/python3.11/dist-packages (from pydantic!=1.8,!=1.8.1,<3.0.0,>=1.7.4->spacy) (0.7.0)\n",
            "Requirement already satisfied: pydantic-core==2.33.2 in /usr/local/lib/python3.11/dist-packages (from pydantic!=1.8,!=1.8.1,<3.0.0,>=1.7.4->spacy) (2.33.2)\n",
            "Requirement already satisfied: typing-extensions>=4.12.2 in /usr/local/lib/python3.11/dist-packages (from pydantic!=1.8,!=1.8.1,<3.0.0,>=1.7.4->spacy) (4.14.1)\n",
            "Requirement already satisfied: typing-inspection>=0.4.0 in /usr/local/lib/python3.11/dist-packages (from pydantic!=1.8,!=1.8.1,<3.0.0,>=1.7.4->spacy) (0.4.1)\n",
            "Requirement already satisfied: charset-normalizer<4,>=2 in /usr/local/lib/python3.11/dist-packages (from requests<3.0.0,>=2.13.0->spacy) (3.4.2)\n",
            "Requirement already satisfied: idna<4,>=2.5 in /usr/local/lib/python3.11/dist-packages (from requests<3.0.0,>=2.13.0->spacy) (3.10)\n",
            "Requirement already satisfied: urllib3<3,>=1.21.1 in /usr/local/lib/python3.11/dist-packages (from requests<3.0.0,>=2.13.0->spacy) (2.5.0)\n",
            "Requirement already satisfied: certifi>=2017.4.17 in /usr/local/lib/python3.11/dist-packages (from requests<3.0.0,>=2.13.0->spacy) (2025.8.3)\n",
            "Requirement already satisfied: blis<1.4.0,>=1.3.0 in /usr/local/lib/python3.11/dist-packages (from thinc<8.4.0,>=8.3.4->spacy) (1.3.0)\n",
            "Requirement already satisfied: confection<1.0.0,>=0.0.1 in /usr/local/lib/python3.11/dist-packages (from thinc<8.4.0,>=8.3.4->spacy) (0.1.5)\n",
            "Requirement already satisfied: click>=8.0.0 in /usr/local/lib/python3.11/dist-packages (from typer<1.0.0,>=0.3.0->spacy) (8.2.1)\n",
            "Requirement already satisfied: shellingham>=1.3.0 in /usr/local/lib/python3.11/dist-packages (from typer<1.0.0,>=0.3.0->spacy) (1.5.4)\n",
            "Requirement already satisfied: rich>=10.11.0 in /usr/local/lib/python3.11/dist-packages (from typer<1.0.0,>=0.3.0->spacy) (13.9.4)\n",
            "Requirement already satisfied: cloudpathlib<1.0.0,>=0.7.0 in /usr/local/lib/python3.11/dist-packages (from weasel<0.5.0,>=0.1.0->spacy) (0.21.1)\n",
            "Requirement already satisfied: smart-open<8.0.0,>=5.2.1 in /usr/local/lib/python3.11/dist-packages (from weasel<0.5.0,>=0.1.0->spacy) (7.3.0.post1)\n",
            "Requirement already satisfied: MarkupSafe>=2.0 in /usr/local/lib/python3.11/dist-packages (from jinja2->spacy) (3.0.2)\n",
            "Requirement already satisfied: marisa-trie>=1.1.0 in /usr/local/lib/python3.11/dist-packages (from language-data>=1.2->langcodes<4.0.0,>=3.2.0->spacy) (1.2.1)\n",
            "Requirement already satisfied: markdown-it-py>=2.2.0 in /usr/local/lib/python3.11/dist-packages (from rich>=10.11.0->typer<1.0.0,>=0.3.0->spacy) (3.0.0)\n",
            "Requirement already satisfied: pygments<3.0.0,>=2.13.0 in /usr/local/lib/python3.11/dist-packages (from rich>=10.11.0->typer<1.0.0,>=0.3.0->spacy) (2.19.2)\n",
            "Requirement already satisfied: wrapt in /usr/local/lib/python3.11/dist-packages (from smart-open<8.0.0,>=5.2.1->weasel<0.5.0,>=0.1.0->spacy) (1.17.2)\n",
            "Requirement already satisfied: mdurl~=0.1 in /usr/local/lib/python3.11/dist-packages (from markdown-it-py>=2.2.0->rich>=10.11.0->typer<1.0.0,>=0.3.0->spacy) (0.1.2)\n",
            "Collecting en-core-web-sm==3.8.0\n",
            "  Downloading https://github.com/explosion/spacy-models/releases/download/en_core_web_sm-3.8.0/en_core_web_sm-3.8.0-py3-none-any.whl (12.8 MB)\n",
            "\u001b[2K     \u001b[90m━━━━━━━━━━━━━━━━━━━━━━━━━━━━━━━━━━━━━━━━\u001b[0m \u001b[32m12.8/12.8 MB\u001b[0m \u001b[31m94.3 MB/s\u001b[0m eta \u001b[36m0:00:00\u001b[0m\n",
            "\u001b[?25h\u001b[38;5;2m✔ Download and installation successful\u001b[0m\n",
            "You can now load the package via spacy.load('en_core_web_sm')\n",
            "\u001b[38;5;3m⚠ Restart to reload dependencies\u001b[0m\n",
            "If you are in a Jupyter or Colab notebook, you may need to restart Python in\n",
            "order to load all the package's dependencies. You can do this by selecting the\n",
            "'Restart kernel' or 'Restart runtime' option.\n",
            "Setup complete!\n"
          ]
        }
      ],
      "source": [
        "# Install required libraries\n",
        "!pip install spacy PyPDF2 scikit-learn\n",
        "!python -m spacy download en_core_web_sm\n",
        "\n",
        "# Import libraries\n",
        "import spacy\n",
        "import PyPDF2\n",
        "from sklearn.feature_extraction.text import TfidfVectorizer  # Fixed typo\n",
        "from sklearn.metrics.pairwise import cosine_similarity\n",
        "import matplotlib.pyplot as plt\n",
        "from ipywidgets import FileUpload, Textarea, Button, Output\n",
        "from IPython.display import display\n",
        "\n",
        "print(\"Setup complete!\")"
      ]
    },
    {
      "cell_type": "code",
      "source": [
        "def extract_resume_text(pdf_path):\n",
        "    with open(pdf_path, 'rb') as file:  # Open in binary mode\n",
        "        reader = PyPDF2.PdfReader(file)\n",
        "        text = ''  # Initialize empty string\n",
        "        for page in reader.pages:  # Loop through each page\n",
        "            text += page.extract_text() + ' '  # Add page text\n",
        "    return text.strip()  # Remove extra spaces\n",
        "\n",
        "# Test it: Upload a PDF via Colab's left sidebar (Files > Upload), then run:\n",
        "resume_text = extract_resume_text('Resume.pdf')\n",
        "print(resume_text[:500])"
      ],
      "metadata": {
        "colab": {
          "base_uri": "https://localhost:8080/"
        },
        "id": "2ShK99ZUi_PK",
        "outputId": "35151cd9-45a3-4f6b-d28a-88ebc54013bd"
      },
      "execution_count": 13,
      "outputs": [
        {
          "output_type": "stream",
          "name": "stdout",
          "text": [
            "Satish  Pakalapati  \n",
            "LinkedIn : www.linkedin.com/in/satishpakalapati  Email:  satishpakal apati65@gmail.com  \n",
            "GitHub:  https://github.com/Satish -970  Mobile:  +91 9666899631 \n",
            "Portfolio:  https://satishpakalapati.netlify.app/  \n",
            "SKILLS  \n",
            " \n",
            "Languages : \n",
            "Frameworks/Libraries: \n",
            "Tools/Platforms : \n",
            "Soft  Skills : Python,  Java,  R, SQL,  Scala,  HTML,  JS \n",
            "Num Py, Scikit -Learn, Spring, Pandas  \n",
            "Excel, Tableau, Jupyter Notebook, MySQL Workbench,  PostgreSQL,  Maven  \n",
            "Problem -Solving,  Team  Player,  \n"
          ]
        }
      ]
    },
    {
      "cell_type": "code",
      "source": [
        "nlp = spacy.load('en_core_web_sm')  # Load the spaCy model\n",
        "def extract_keywords(text):\n",
        "    \"\"\"\n",
        "    Extracts keywords (nouns, proper nouns, and custom skills) from text.\n",
        "    \"\"\"\n",
        "    doc = nlp(text.lower())  # Process text (lowercase for consistency)\n",
        "    keywords = set()  # Use set to avoid duplicates\n",
        "    for token in doc:  # Loop through tokens (words/phrases)\n",
        "        if token.pos_ in ['NOUN', 'PROPN'] or token.text in ['python', 'sql', 'machine learning', 'data analysis']:  # Filter for relevant parts\n",
        "            keywords.add(token.text)\n",
        "    return keywords\n",
        "# Test:\n",
        "sample_text = \"Experienced in Python and SQL. Skilled in machine learning.\"\n",
        "keywords = extract_keywords(sample_text)\n",
        "print(keywords)  # Output: {'python', 'sql', 'machine learning', ...}"
      ],
      "metadata": {
        "colab": {
          "base_uri": "https://localhost:8080/"
        },
        "id": "OBg0PDkn4jx8",
        "outputId": "025b71e6-a6bb-48c5-c94e-a5a6950dfc18"
      },
      "execution_count": 18,
      "outputs": [
        {
          "output_type": "stream",
          "name": "stdout",
          "text": [
            "{'sql', 'machine', 'python', 'learning'}\n"
          ]
        }
      ]
    },
    {
      "cell_type": "code",
      "source": [
        "def calculate_ats_score(resume_text, job_description):\n",
        "    \"\"\"\n",
        "    Computes similarity score between resume and job description.\n",
        "    \"\"\"\n",
        "    documents = [resume_text, job_description]  # List of texts\n",
        "    vectorizer = TfidfVectorizer()  # Create TF-IDF vectorizer\n",
        "    tfidf_matrix = vectorizer.fit_transform(documents)  # Convert to vectors\n",
        "    similarity = cosine_similarity(tfidf_matrix[0:1], tfidf_matrix[1:2])[0][0]  # Calculate similarity\n",
        "    return similarity * 100  # Return as percentage\n",
        "\n",
        "# Test:\n",
        "job_desc = \"Requirements: Python, SQL, Machine Learning.\"\n",
        "score = calculate_ats_score(sample_text, job_desc)\n",
        "print(f\"ATS Score: {score:.2f}%\")"
      ],
      "metadata": {
        "colab": {
          "base_uri": "https://localhost:8080/"
        },
        "id": "Fvrqdztj53Jg",
        "outputId": "be07359c-49e3-43a1-b176-4332de74980d"
      },
      "execution_count": 19,
      "outputs": [
        {
          "output_type": "stream",
          "name": "stdout",
          "text": [
            "ATS Score: 38.76%\n"
          ]
        }
      ]
    },
    {
      "cell_type": "markdown",
      "source": [],
      "metadata": {
        "id": "K7p6ikS7iaIf"
      }
    },
    {
      "cell_type": "code",
      "source": [
        "def get_suggestions(resume_keywords, job_keywords):\n",
        "    \"\"\"\n",
        "    Finds keywords in job desc not in resume.\n",
        "    \"\"\"\n",
        "    missing = job_keywords - resume_keywords  # Set difference\n",
        "    if missing:\n",
        "        return f\"Suggestions: Add {', '.join(missing)} to your resume.\"\n",
        "    return \"Great match! No suggestions.\"\n",
        "\n",
        "# Test:\n",
        "resume_kw = extract_keywords(sample_text)\n",
        "job_kw = extract_keywords(job_desc)\n",
        "print(get_suggestions(resume_kw, job_kw))\n"
      ],
      "metadata": {
        "colab": {
          "base_uri": "https://localhost:8080/"
        },
        "id": "Ype-fo0a6CMS",
        "outputId": "0a0f756d-c113-47a0-deda-6740a53f2765"
      },
      "execution_count": 20,
      "outputs": [
        {
          "output_type": "stream",
          "name": "stdout",
          "text": [
            "Suggestions: Add requirements to your resume.\n"
          ]
        }
      ]
    },
    {
      "cell_type": "code",
      "source": [
        "def visualize_score(score):\n",
        "    \"\"\"\n",
        "    Plots a bar chart of the ATS score.\n",
        "    \"\"\"\n",
        "    plt.bar(['ATS Score'], [score], color='skyblue')\n",
        "    plt.ylim(0, 100)  # Set y-axis limits\n",
        "    plt.ylabel('Match Percentage')\n",
        "    plt.title('Resume ATS Match Score')\n",
        "    plt.show()\n",
        "visualize_score(score)"
      ],
      "metadata": {
        "colab": {
          "base_uri": "https://localhost:8080/",
          "height": 452
        },
        "id": "x1Zdkkj_6S6R",
        "outputId": "529bb687-edb8-433d-d5a5-c12d2e625345"
      },
      "execution_count": 24,
      "outputs": [
        {
          "output_type": "display_data",
          "data": {
            "text/plain": [
              "<Figure size 640x480 with 1 Axes>"
            ],
            "image/png": "[encoded data removed]"
          },
          "metadata": {}
        }
      ]
    },
    {
      "cell_type": "code",
      "source": [
        "upload = FileUpload(accept='.pdf', description='Upload Resume PDF')\n",
        "job_desc = Textarea(placeholder='Paste job description here', description='Job Desc:')\n",
        "button = Button(description='Check ATS Score')\n",
        "output = Output()\n",
        "\n",
        "def on_button_clicked(b):\n",
        "    with output:\n",
        "        output.clear_output()  # Clear previous output\n",
        "        if upload.value:\n",
        "            # Get uploaded file name and content\n",
        "            uploaded_file = list(upload.value.values())[0]\n",
        "            with open('temp_resume.pdf', 'wb') as f:\n",
        "                f.write(uploaded_file['content'])\n",
        "            resume_text = extract_resume_text('temp_resume.pdf')\n",
        "            job_text = job_desc.value\n",
        "            resume_keywords = extract_keywords(resume_text)\n",
        "            job_keywords = extract_keywords(job_text)\n",
        "            ats_score = calculate_ats_score(resume_text, job_text)\n",
        "            print(f\"ATS Match Score: {ats_score:.2f}%\")\n",
        "            print(get_suggestions(resume_keywords, job_keywords))\n",
        "            visualize_score(ats_score)\n",
        "        else:\n",
        "            print(\"Please upload a resume PDF.\")\n",
        "\n",
        "button.on_click(on_button_clicked)\n",
        "display(upload, job_desc, button, output)\n"
      ],
      "metadata": {
        "colab": {
          "base_uri": "https://localhost:8080/",
          "height": 769,
          "referenced_widgets": [
            "4191a16655d24872a11136dcda1b070e",
            "01dcfcb22ece41d0ad89b11a0f4a64df",
            "e9086fca821446fbac97e2b3b9823279",
            "85ca29f4a5044ba697b34c5df87a2592",
            "7e12958efe4345d898c1df188ecf433a",
            "2903ff520b114ec19fcfdaf264ceb624",
            "1a6ab4bb833646848a0692124ef39a35",
            "6040395a81074ce4846fe5dbd6adee6a",
            "78bef1902ec74538a0c3efe1adcc3213",
            "a30e337608fc4d8fb562bd5774f5f9ea",
            "be3387ce39cc4931aebffa54af6992eb"
          ]
        },
        "id": "GVqoYocJ6m9Z",
        "outputId": "f3b06c1b-1065-4592-997d-8d10b28047ea"
      },
      "execution_count": 25,
      "outputs": [
        {
          "output_type": "display_data",
          "data": {
            "text/plain": [
              "FileUpload(value={}, accept='.pdf', description='Upload Resume PDF')"
            ],
            "application/vnd.jupyter.widget-view+json": {
              "version_major": 2,
              "version_minor": 0,
              "model_id": "4191a16655d24872a11136dcda1b070e"
            }
          },
          "metadata": {}
        },
        {
          "output_type": "display_data",
          "data": {
            "text/plain": [
              "Textarea(value='', description='Job Desc:', placeholder='Paste job description here')"
            ],
            "application/vnd.jupyter.widget-view+json": {
              "version_major": 2,
              "version_minor": 0,
              "model_id": "85ca29f4a5044ba697b34c5df87a2592"
            }
          },
          "metadata": {}
        },
        {
          "output_type": "display_data",
          "data": {
            "text/plain": [
              "Button(description='Check ATS Score', style=ButtonStyle())"
            ],
            "application/vnd.jupyter.widget-view+json": {
              "version_major": 2,
              "version_minor": 0,
              "model_id": "1a6ab4bb833646848a0692124ef39a35"
            }
          },
          "metadata": {}
        },
        {
          "output_type": "display_data",
          "data": {
            "text/plain": [
              "Output()"
            ],
            "application/vnd.jupyter.widget-view+json": {
              "version_major": 2,
              "version_minor": 0,
              "model_id": "a30e337608fc4d8fb562bd5774f5f9ea"
            }
          },
          "metadata": {}
        }
      ]
    }
  ]
}