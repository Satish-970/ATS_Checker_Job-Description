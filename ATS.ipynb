{
  "cells": [
    {
      "cell_type": "markdown",
      "metadata": {
        "id": "view-in-github",
        "colab_type": "text"
      },
      "source": [
        "<a href=\"https://colab.research.google.com/github/Satish-970/ATS_Checker_Job-Description/blob/main/ATS.ipynb\" target=\"_parent\"><img src=\"https://colab.research.google.com/assets/colab-badge.svg\" alt=\"Open In Colab\"/></a>"
      ]
    },
    {
      "cell_type": "markdown",
      "metadata": {
        "id": "UBKZopwuicAa"
      },
      "source": [
        "### ATS Resume Matcher: Your Guide to a Better Resume\n\nThis tool helps you evaluate how well your resume matches a job description, providing an **ATS score** and suggestions for improvement. It's designed to help you pass through Applicant Tracking Systems (ATS) and get your resume seen by recruiters.\n\nTo use it, simply run all the code cells sequentially. You'll be prompted to upload your resume as a PDF and paste the job description you're applying for."
      ]
    },
    {
      "cell_type": "code",
      "execution_count": null,
      "metadata": {
        "colab": {
          "base_uri": "https://localhost:8080/"
        },
        "id": "rA7obNYnhCJE",
        "outputId": "4b633806-9d79-493c-d61c-0cb2507700af"
      },
      "outputs": [],
      "source": [
        "# Step 1: Install and Import Libraries\n\n# This cell installs necessary libraries and downloads the spaCy model.\n!pip install spacy PyPDF2 scikit-learn\n!python -m spacy download en_core_web_sm\n\n# Import libraries\nimport spacy\nimport PyPDF2\nfrom sklearn.feature_extraction.text import TfidfVectorizer\nfrom sklearn.metrics.pairwise import cosine_similarity\nimport matplotlib.pyplot as plt\nfrom google.colab import files\nfrom IPython.display import clear_output\nimport os\n\nprint(\"Setup complete!\")"
      ]
    },
    {
      "cell_type": "code",
      "execution_count": null,
      "metadata": {
        "id": "2ShK99ZUi_PK"
      },
      "outputs": [],
      "source": [
        "# Step 2: Define Core Functions\n\n# This cell defines all the helper functions for the ATS checker.\n\n# Load the spaCy model\ntry:\n    nlp = spacy.load('en_core_web_sm')\nexcept OSError:\n    print(\"Downloading spaCy model...\")\n    !python -m spacy download en_core_web_sm\n    nlp = spacy.load('en_core_web_sm')\n\n# Function to extract text from a PDF\ndef extract_resume_text(pdf_path):\n    \"\"\"\n    Extracts text from a PDF resume file.\n    \"\"\"\n    with open(pdf_path, 'rb') as file:\n        reader = PyPDF2.PdfReader(file)\n        text = ''\n        for page in reader.pages:\n            text += page.extract_text() + ' '\n    return text.strip()\n\n# Function to extract keywords (nouns, proper nouns, and custom skills)\ndef extract_keywords(text):\n    \"\"\"\n    Extracts keywords (nouns, proper nouns, and custom skills) from text.\n    \"\"\"\n    doc = nlp(text.lower())\n    keywords = set()\n    \n    # Enhanced list of technical skills and keywords\n    tech_skills = {\n        'python', 'sql', 'machine learning', 'data analysis', 'java', 'javascript',\n        'react', 'angular', 'node.js', 'html', 'css', 'aws', 'docker', 'kubernetes',\n        'git', 'agile', 'scrum', 'tensorflow', 'pytorch', 'pandas', 'numpy',\n        'mongodb', 'postgresql', 'mysql', 'excel', 'powerbi', 'tableau',\n        'communication', 'leadership', 'teamwork', 'management', 'project management'\n    }\n    \n    for token in doc:\n        # Extract nouns and proper nouns\n        if token.pos_ in ['NOUN', 'PROPN'] and len(token.text) > 2:\n            keywords.add(token.text)\n        # Extract technical skills\n        elif token.text in tech_skills:\n            keywords.add(token.text)\n    \n    # Handle multi-word skills\n    text_lower = text.lower()\n    multi_word_skills = [\n        'machine learning', 'data analysis', 'project management', \n        'data science', 'artificial intelligence', 'deep learning',\n        'natural language processing', 'computer vision', 'big data'\n    ]\n    \n    for skill in multi_word_skills:\n        if skill in text_lower:\n            keywords.add(skill)\n    \n    return keywords\n\n# Function to calculate similarity score using TF-IDF and cosine similarity\ndef calculate_ats_score(resume_text, job_description):\n    \"\"\"\n    Computes similarity score between resume and job description using TF-IDF and cosine similarity.\n    \"\"\"\n    documents = [resume_text, job_description]\n    vectorizer = TfidfVectorizer(stop_words='english', ngram_range=(1, 2))\n    tfidf_matrix = vectorizer.fit_transform(documents)\n    similarity = cosine_similarity(tfidf_matrix[0:1], tfidf_matrix[1:2])[0][0]\n    return similarity * 100\n\n# Function to provide suggestions based on missing keywords\ndef get_suggestions(resume_keywords, job_keywords):\n    \"\"\"\n    Finds keywords in job description that are missing from resume and provides suggestions.\n    \"\"\"\n    missing = job_keywords - resume_keywords\n    if missing:\n        missing_list = list(missing)[:10]  # Limit to top 10 suggestions\n        return f\"Suggestions: Consider adding these keywords to your resume: {', '.join(missing_list)}\"\n    return \"Great match! Your resume contains all the key skills from the job description.\"\n\n# Function to categorize score and provide feedback\ndef get_score_feedback(score):\n    \"\"\"\n    Provides feedback based on the ATS score.\n    \"\"\"\n    if score >= 80:\n        return \"Excellent! Your resume is very well-matched to this job.\"\n    elif score >= 60:\n        return \"Good match! Consider minor improvements to boost your score.\"\n    elif score >= 40:\n        return \"Moderate match. Review the suggestions to improve your resume.\"\n    else:\n        return \"Low match. Consider significant revisions to better align with the job requirements.\"\n\n# Function to visualize the ATS score\ndef visualize_score(score):\n    \"\"\"\n    Plots a bar chart of the ATS score with color coding.\n    \"\"\"\n    # Color coding based on score\n    if score >= 80:\n        color = 'green'\n    elif score >= 60:\n        color = 'orange'\n    elif score >= 40:\n        color = 'yellow'\n    else:\n        color = 'red'\n    \n    plt.figure(figsize=(8, 6))\n    plt.bar(['ATS Score'], [score], color=color, alpha=0.7)\n    plt.ylim(0, 100)\n    plt.ylabel('Match Percentage (%)')\n    plt.title('Resume ATS Match Score')\n    \n    # Add score text on the bar\n    plt.text(0, score + 2, f'{score:.1f}%', ha='center', va='bottom', fontsize=14, fontweight='bold')\n    \n    # Add threshold lines\n    plt.axhline(y=80, color='green', linestyle='--', alpha=0.5, label='Excellent (80%+)')\n    plt.axhline(y=60, color='orange', linestyle='--', alpha=0.5, label='Good (60%+)')\n    plt.axhline(y=40, color='yellow', linestyle='--', alpha=0.5, label='Moderate (40%+)')\n    \n    plt.legend()\n    plt.tight_layout()\n    plt.show()\n\nprint(\"Core functions defined.\")"
      ]
    },
    {
      "cell_type": "code",
      "execution_count": null,
      "metadata": {
        "id": "wLdZ_CgR_evd"
      },
      "outputs": [],
      "source": [
        "# Step 3: Run the Interactive ATS Checker\n\n# This function guides the user through the process of uploading files and getting results.\ndef run_ats_checker():\n    clear_output(wait=True)\n    \n    print(\"🎯 ATS Resume Checker\")\n    print(\"=\" * 50)\n    print(\"This tool will analyze how well your resume matches a job description.\")\n    print(\"\\nStep 1: Please upload your resume PDF.\")\n    print(\"A file dialog will open shortly...\")\n    \n    uploaded_files = files.upload()\n    \n    if not uploaded_files:\n        print(\"❌ No file was uploaded. Please try again.\")\n        return\n    \n    file_name = list(uploaded_files.keys())[0]\n    print(f\"✅ Successfully uploaded: {file_name}\")\n    \n    try:\n        resume_text = extract_resume_text(file_name)\n        print(f\"📄 Extracted {len(resume_text)} characters from your resume.\")\n    except Exception as e:\n        print(f\"❌ Error reading PDF: {e}\")\n        os.remove(file_name)\n        return\n    \n    print(\"\\n\" + \"=\"*50)\n    print(\"Step 2: Please paste the complete job description below:\")\n    job_desc = input(\"\\nJob Description: \")\n    \n    if not job_desc.strip():\n        print(\"❌ Job description cannot be empty. Please try again.\")\n        os.remove(file_name)\n        return\n    \n    print(\"\\n🔍 Analyzing...\")\n    \n    # Extract keywords and calculate score\n    resume_keywords = extract_keywords(resume_text)\n    job_keywords = extract_keywords(job_desc)\n    ats_score = calculate_ats_score(resume_text, job_desc)\n    \n    # Display results\n    print(\"\\n\" + \"=\"*60)\n    print(\"📊 ATS MATCH ANALYSIS RESULTS\")\n    print(\"=\"*60)\n    print(f\"\\n🎯 Your ATS Match Score: {ats_score:.2f}%\")\n    print(f\"📝 {get_score_feedback(ats_score)}\")\n    print(f\"\\n💡 {get_suggestions(resume_keywords, job_keywords)}\")\n    \n    print(f\"\\n📈 Resume Keywords Found: {len(resume_keywords)}\")\n    print(f\"📋 Job Keywords Found: {len(job_keywords)}\")\n    print(f\"🎯 Matching Keywords: {len(resume_keywords & job_keywords)}\")\n    \n    # Show visualization\n    visualize_score(ats_score)\n    \n    # Clean up\n    os.remove(file_name)\n    print(f\"\\n🧹 Temporary file '{file_name}' removed.\")\n    print(\"\\n\" + \"=\"*60)\n    print(\"Analysis Complete! 🎉\")\n    print(\"=\"*60)\n\n# Run the main checker function to start the process\nrun_ats_checker()"
      ]
    },
    {
      "cell_type": "code",
      "execution_count": null,
      "metadata": {
        "id": "test_cell"
      },
      "outputs": [],
      "source": [
        "# Optional: Test the functions with sample data\n\n# Uncomment and run this cell to test the functions without uploading files\n\n# sample_resume = \"\"\"\n# John Doe\n# Software Engineer\n# \n# Experience:\n# - 3 years of Python development\n# - Machine learning projects using TensorFlow\n# - SQL database management\n# - Agile development methodology\n# \n# Skills:\n# Python, SQL, Machine Learning, TensorFlow, Git, Agile\n# \"\"\"\n\n# sample_job = \"\"\"\n# Software Engineer Position\n# \n# Requirements:\n# - Python programming\n# - Machine learning experience\n# - SQL database knowledge\n# - React.js for frontend\n# - Docker containerization\n# - AWS cloud services\n# \"\"\"\n\n# print(\"Testing with sample data:\")\n# resume_kw = extract_keywords(sample_resume)\n# job_kw = extract_keywords(sample_job)\n# score = calculate_ats_score(sample_resume, sample_job)\n\n# print(f\"Sample ATS Score: {score:.2f}%\")\n# print(f\"Resume Keywords: {sorted(resume_kw)}\")\n# print(f\"Job Keywords: {sorted(job_kw)}\")\n# print(get_suggestions(resume_kw, job_kw))\n# visualize_score(score)"
      ]
    }
  ],
  "metadata": {
    "colab": {
      "provenance": [],
      "authorship_tag": "ABX9TyNHu0/D7htgf+qQfSbhYpIc",
      "include_colab_link": true
    },
    "kernelspec": {
      "display_name": "Python 3",
      "name": "python3"
    },
    "language_info": {
      "name": "python"
    }
  },
  "nbformat": 4,
  "nbformat_minor": 0
}
