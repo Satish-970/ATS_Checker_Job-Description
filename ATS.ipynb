{
 "cells": [
  {
   "cell_type": "markdown",
   "metadata": {
    "id": "view-in-github",
    "colab_type": "text"
   },
   "source": [
    "<a href=\"https://colab.research.google.com/github/Satish-970/ATS_Checker_Job-Description/blob/main/ATS.ipynb\" target=\"_parent\"><img src=\"https://colab.research.google.com/assets/colab-badge.svg\" alt=\"Open In Colab\"/></a>"
   ]
  },
  {
   "cell_type": "markdown",
   "metadata": {
    "id": "UBKZopwuicAa"
   },
   "source": [
    "# ATS Resume Matcher: Your Guide to a Better Resume\n\nThis tool evaluates how well your resume matches a job description, providing an ATS score and suggestions for improvement. It's designed to help you pass through Applicant Tracking Systems (ATS) and get your resume seen by recruiters.\n\nTo use it, run all the code cells sequentially. You'll be prompted to:\n1. Upload your resume (PDF or DOCX) via a file upload dialog.\n2. Paste the job description into an input box.\n3. View the ATS score, keyword analysis, and suggestions directly in Colab.\n\n**No sign-in required** - uploads are done directly from your local machine. 🚀\n\n### How to Run\n1. Run the first cell to install dependencies.\n2. Run the second cell to define the ATS functions.\n3. Run the third cell to start the ATS checker, which will prompt for file upload and job description input.\n\n**Note**: Ensure your resume is a text-based PDF or DOCX file (not a scanned image) for accurate text extraction."
   ]
  },
  {
   "cell_type": "code",
   "execution_count": null,
   "metadata": {
    "id": "rA7obNYnhCJE"
   },
   "outputs": [],
   "source": [
    "# Step 1: Install and Import Libraries\n\n# Install necessary libraries\n!pip install spacy PyPDF2 python-docx scikit-learn matplotlib --quiet\n!python -m spacy download en_core_web_sm --quiet\n\n# Import libraries\nimport spacy\nimport PyPDF2\nfrom docx import Document\nfrom sklearn.feature_extraction.text import TfidfVectorizer\nfrom sklearn.metrics.pairwise import cosine_similarity\nimport matplotlib.pyplot as plt\nfrom google.colab import files\nimport os\n\nprint(\"Setup complete! ✅\")"
   ]
  },
  {
   "cell_type": "code",
   "execution_count": null,
   "metadata": {
    "id": "2ShK99ZUi_PK"
   },
   "outputs": [],
   "source": [
    "# Step 2: Define Core Functions\n\n# Load the spaCy model\ntry:\n    nlp = spacy.load('en_core_web_sm')\nexcept OSError:\n    print(\"Downloading spaCy model...\")\n    !python -m spacy download en_core_web_sm --quiet\n    nlp = spacy.load('en_core_web_sm')\n\n# Function to extract text from PDF\ndef extract_pdf_text(pdf_path):\n    text = ''\n    try:\n        with open(pdf_path, 'rb') as file:\n            reader = PyPDF2.PdfReader(file)\n            for page in reader.pages:\n                extracted_page_text = page.extract_text()\n                if extracted_page_text:\n                    text += extracted_page_text + ' '\n    except Exception as e:\n        print(f\"Error extracting text from PDF: {e}\")\n        return \"\"\n    return text.strip()\n\n# Function to extract text from DOCX\ndef extract_docx_text(docx_path):\n    text = ''\n    try:\n        doc = Document(docx_path)\n        for paragraph in doc.paragraphs:\n            text += paragraph.text + ' '\n    except Exception as e:\n        print(f\"Error extracting text from DOCX: {e}\")\n        return \"\"\n    return text.strip()\n\n# Function to extract text from uploaded resume\ndef extract_resume_text(file_path):\n    file_extension = file_path.lower().split('.')[-1]\n    if file_extension == 'pdf':\n        return extract_pdf_text(file_path)\n    elif file_extension in ['docx', 'doc']:\n        return extract_docx_text(file_path)\n    else:\n        print(\"Unsupported file format. Please upload PDF or DOCX files only. ⚠️\")\n        return \"\"\n\n# Function to extract keywords\ndef extract_keywords(text):\n    doc = nlp(text.lower())\n    keywords = set()\n    \n    # Comprehensive list of technical and professional skills\n    tech_skills = {\n        'python', 'java', 'javascript', 'sql', 'html', 'css', 'react', 'angular', \n        'vue', 'node.js', 'django', 'flask', 'spring', 'hibernate', 'mongodb', \n        'postgresql', 'mysql', 'oracle', 'aws', 'azure', 'gcp', 'docker', \n        'kubernetes', 'jenkins', 'git', 'github', 'gitlab', 'agile', 'scrum', \n        'kanban', 'jira', 'confluence', 'tensorflow', 'pytorch', 'keras', \n        'pandas', 'numpy', 'scipy', 'matplotlib', 'seaborn', 'tableau', \n        'powerbi', 'excel', 'r', 'scala', 'spark', 'hadoop', 'kafka', \n        'elasticsearch', 'redis', 'graphql', 'rest', 'api', 'microservices',\n        'devops', 'ci/cd', 'linux', 'windows', 'macos', 'bash', 'powershell',\n        'communication', 'leadership', 'teamwork', 'management', 'analytics',\n        'problem-solving', 'debugging', 'testing', 'automation'\n    }\n    \n    # Extract nouns, proper nouns, and technical skills\n    for token in doc:\n        if token.pos_ in ['NOUN', 'PROPN'] and len(token.text) > 2 and token.text.isalpha():\n            keywords.add(token.text)\n        elif token.text in tech_skills:\n            keywords.add(token.text)\n    \n    # Handle multi-word skills and phrases\n    text_lower = text.lower()\n    multi_word_skills = [\n        'machine learning', 'data analysis', 'data science', 'project management',\n        'artificial intelligence', 'deep learning', 'natural language processing',\n        'computer vision', 'big data', 'business intelligence', 'data mining',\n        'software development', 'web development', 'mobile development',\n        'full stack', 'front end', 'back end', 'database management',\n        'cloud computing', 'cyber security', 'network security',\n        'quality assurance', 'user experience', 'user interface'\n    ]\n    \n    for skill in multi_word_skills:\n        if skill in text_lower:\n            keywords.add(skill)\n    \n    return keywords\n\n# Function to calculate ATS score\ndef calculate_ats_score(resume_text, job_description):\n    documents = [resume_text, job_description]\n    vectorizer = TfidfVectorizer(\n        stop_words='english', \n        ngram_range=(1, 2),\n        max_features=1000,\n        lowercase=True\n    )\n    tfidf_matrix = vectorizer.fit_transform(documents)\n    similarity = cosine_similarity(tfidf_matrix[0:1], tfidf_matrix[1:2])[0][0]\n    return similarity * 100\n\n# Function to provide improvement suggestions\ndef get_suggestions(resume_keywords, job_keywords):\n    missing = job_keywords - resume_keywords\n    if missing:\n        missing_list = sorted(list(missing))[:10]  # Top 10 suggestions\n        return f\"Consider adding these keywords to your resume: {', '.join(missing_list)} ✍️\"\n    return \"Excellent! Your resume contains all the key skills from the job description. 🌟\"\n\n# Function to provide score interpretation\ndef get_score_feedback(score):\n    if score >= 80:\n        return \"Excellent match! Your resume aligns very well with this job. 👍\"\n    elif score >= 65:\n        return \"Good match! Minor improvements could boost your score. 😊\"\n    elif score >= 50:\n        return \"Moderate match. Review suggestions to improve alignment. 🤔\"\n    elif score >= 35:\n        return \"Below average match. Consider significant improvements. 😟\"\n    else:\n        return \"Low match. Major revisions recommended to align with job requirements. 😥\"\n\n# Function to visualize the score\ndef visualize_score(score):\n    # Color coding based on score ranges\n    if score >= 80:\n        color = 'green'\n        performance = 'Excellent'\n    elif score >= 65:\n        color = 'lightgreen'\n        performance = 'Good'\n    elif score >= 50:\n        color = 'orange'\n        performance = 'Moderate'\n    elif score >= 35:\n        color = 'red'\n        performance = 'Below Average'\n    else:\n        color = 'darkred'\n        performance = 'Low'\n    \n    plt.figure(figsize=(10, 6))\n    bars = plt.bar(['ATS Match Score'], [score], color=color, alpha=0.8, width=0.6)\n    \n    plt.ylim(0, 100)\n    plt.ylabel('Match Percentage (%)', fontsize=12)\n    plt.title('Resume ATS Match Analysis', fontsize=14, fontweight='bold')\n    \n    # Add score text on the bar\n    plt.text(0, score + 2, f'{score:.1f}%\\n({performance})', \n             ha='center', va='bottom', fontsize=14, fontweight='bold')\n    \n    # Add reference lines\n    plt.axhline(y=80, color='green', linestyle='--', alpha=0.3, label='Excellent (80%+)')\n    plt.axhline(y=65, color='lightgreen', linestyle='--', alpha=0.3, label='Good (65%+)')\n    plt.axhline(y=50, color='orange', linestyle='--', alpha=0.3, label='Moderate (50%+)')\n    plt.axhline(y=35, color='red', linestyle='--', alpha=0.3, label='Below Average (35%+)')\n    \n    plt.legend(loc='upper right')\n    plt.grid(True, alpha=0.3)\n    plt.tight_layout()\n    plt.show()\n\nprint(\"All functions defined successfully. ⚙️\")"
   ]
  },
  {
   "cell_type": "code",
   "execution_count": null,
   "metadata": {
    "id": "main_checker"
   },
   "outputs": [],
   "source": [
    "# Step 3: Run the ATS Checker\n\ndef run_ats_checker():\n    print(\"ATS Resume Checker\")\n    print(\"=\" * 50)\n    print(\"This tool analyzes how well your resume matches a job description.\")\n    print(\"Supported formats: PDF, DOCX, DOC\")\n    print(\"\\nStep 1: Upload your resume file\")\n    print(\"Click 'Choose Files' in the dialog below to select your resume from your local machine... 📄\")\n    \n    # Upload resume file from local machine\n    uploaded_files = files.upload()\n    \n    if not uploaded_files:\n        print(\"No file was uploaded. Please try again. 😕\")\n        return\n    \n    file_name = list(uploaded_files.keys())[0]\n    print(f\"Successfully uploaded: {file_name} 🎉\")\n    \n    # Extract text from resume\n    try:\n        resume_text = extract_resume_text(file_name)\n        if not resume_text or len(resume_text.strip()) < 100:\n            print(\"Warning: Very short resume text extracted. Please ensure your PDF/DOCX is readable. 🧐\")\n            return\n    except Exception as e:\n        print(f\"Error reading file: {e}\")\n        print(\"Please ensure you uploaded a valid PDF or DOCX file. ❌\")\n        if os.path.exists(file_name):\n            os.remove(file_name)\n        return\n    \n    print(\"\\n\" + \"=\"*50)\n    print(\"Step 2: Paste the job description below and press Enter:\")\n    print(\"(Paste the complete job posting including requirements and qualifications)\")\n    \n    job_desc = input(\"\\nJob Description: \")\n    \n    if not job_desc.strip():\n        print(\"Job description cannot be empty. Please try again. 🚫\")\n        if os.path.exists(file_name):\n            os.remove(file_name)\n        return\n    \n    if len(job_desc.strip()) < 50:\n        print(\"Warning: Job description seems very short. Consider pasting the complete job posting for a better analysis. 🤏\")\n    \n    print(\"\\nAnalyzing your resume against the job description... 📊\")\n    \n    try:\n        # Extract keywords and calculate score\n        resume_keywords = extract_keywords(resume_text)\n        job_keywords = extract_keywords(job_desc)\n        ats_score = calculate_ats_score(resume_text, job_desc)\n        \n        # Display comprehensive results\n        print(\"\\n\" + \"=\"*60)\n        print(\"ATS MATCH ANALYSIS RESULTS\")\n        print(\"=\"*60)\n        \n        print(f\"\\nATS Match Score: {ats_score:.2f}%\")\n        print(f\"Score Category: {get_score_feedback(ats_score)}\")\n        \n        print(f\"\\nKeyword Analysis:\")\n        print(f\"- Resume keywords found: {len(resume_keywords)}\")\n        print(f\"- Job description keywords: {len(job_keywords)}\")\n        print(f\"- Matching keywords: {len(resume_keywords & job_keywords)}\")\n        \n        matching_keywords = resume_keywords & job_keywords\n        if matching_keywords:\n            print(f\"\\nMatching skills found: {', '.join(sorted(list(matching_keywords))[:15])} ✅\")\n        \n        print(f\"\\nImprovement Suggestions:\")\n        print(get_suggestions(resume_keywords, job_keywords))\n        \n        # Show visualization\n        visualize_score(ats_score)\n        \n        # Provide additional recommendations\n        print(\"\\nAdditional Tips to Boost Your Score: ✨\")\n        if ats_score < 65:\n            print(\"- Use exact keywords from the job description in your resume.\")\n            print(\"- Include relevant skills in a dedicated skills section.\")\n            print(\"- Tailor your experience descriptions to match job requirements.\")\n            print(\"- Use industry-standard terminology.\")\n        \n        print(\"- Ensure your resume is in a simple, ATS-friendly format.\")\n        print(\"- Use standard section headings (Experience, Skills, Education).\")\n        print(\"- Avoid images, tables, and complex formatting.\")\n        \n    except Exception as e:\n        print(f\"Error during analysis: {e}\")\n    \n    finally:\n        # Clean up uploaded file\n        if os.path.exists(file_name):\n            os.remove(file_name)\n            print(f\"\\nTemporary file '{file_name}' removed. 🗑️\")\n    \n    print(\"\\n\" + \"=\"*60)\n    print(\"Analysis Complete! Good luck! 🍀\")\n    print(\"=\"*60)\n\n# Run the ATS checker\nrun_ats_checker()"
   ]
  },
  {
   "cell_type": "markdown",
   "metadata": {
    "id": "deploy_instructions"
   },
   "source": [
    "## Saving to GitHub\n\nTo store this notebook on GitHub:\n1. Save this JSON content as `ats_matcher.ipynb`.\n2. Create a GitHub repository (e.g., `ATS_Checker_Job-Description`).\n3. Upload `ats_matcher.ipynb` to the repository.\n4. The notebook can be opened in Colab directly from GitHub using the provided link in the first cell.\n\n**Note**: This version runs entirely in Colab and does not require Streamlit. For a web-based version, consider deploying the Streamlit version (see previous versions of this code). Ensure resume files are text-based for accurate extraction."
   ]
  }
 ],
 "metadata": {
  "colab": {
   "provenance": [],
   "authorship_tag": "ABX9TyNHu0/D7htgf+qQfSbhYpIc",
   "include_colab_link": true
  },
  "kernelspec": {
   "display_name": "Python 3",
   "name": "python3"
  },
  "language_info": {
   "name": "python"
  }
 },
 "nbformat": 4,
 "nbformat_minor": 0
}
