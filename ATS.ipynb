{
  "cells": [
    {
      "cell_type": "markdown",
      "metadata": {
        "id": "view-in-github",
        "colab_type": "text"
      },
      "source": [
        "<a href=\"https://colab.research.google.com/github/Satish-970/ATS_Checker_Job-Description/blob/main/ATS.ipynb\" target=\"_parent\"><img src=\"https://colab.research.google.com/assets/colab-badge.svg\" alt=\"Open In Colab\"/></a>"
      ]
    },
    {
      "cell_type": "markdown",
      "metadata": {
        "id": "UBKZopwuicAa"
      },
      "source": [
        "### ATS Resume Matcher: Your Guide to a Better Resume\n\nThis tool helps you evaluate how well your resume matches a job description, providing an ATS score and suggestions for improvement. It's designed to help you pass through Applicant Tracking Systems (ATS) and get your resume seen by recruiters.\n\nTo use it, simply run all the code cells sequentially. You'll be prompted to upload your resume as a PDF or DOC file and paste the job description you're applying for.\n\nNo sign-in required - just upload your resume and get instant results!"
      ]
    },
    {
      "cell_type": "code",
      "execution_count": null,
      "metadata": {
        "colab": {
          "base_uri": "https://localhost:8080/"
        },
        "id": "rA7obNYnhCJE",
        "outputId": "4b633806-9d79-493c-d61c-0cb2507700af"
      },
      "outputs": [],
      "source": [
        "# Step 1: Install and Import Libraries\n\n# Install necessary libraries\n!pip install spacy PyPDF2 scikit-learn python-docx\n!python -m spacy download en_core_web_sm\n\n# Import libraries\nimport spacy\nimport PyPDF2\nfrom docx import Document\nfrom sklearn.feature_extraction.text import TfidfVectorizer\nfrom sklearn.metrics.pairwise import cosine_similarity\nimport matplotlib.pyplot as plt\nfrom google.colab import files\nfrom IPython.display import clear_output\nimport os\n\nprint(\"Setup complete!\")"
      ]
    },
    {
      "cell_type": "code",
      "execution_count": null,
      "metadata": {
        "id": "2ShK99ZUi_PK"
      },
      "outputs": [],
      "source": [
        "# Step 2: Define Core Functions\n\n# Load the spaCy model\ntry:\n    nlp = spacy.load('en_core_web_sm')\nexcept OSError:\n    print(\"Downloading spaCy model...\")\n    !python -m spacy download en_core_web_sm\n    nlp = spacy.load('en_core_web_sm')\n\n# Function to extract text from PDF\ndef extract_pdf_text(pdf_path):\n    \"\"\"\n    Extracts text from a PDF file.\n    \"\"\"\n    with open(pdf_path, 'rb') as file:\n        reader = PyPDF2.PdfReader(file)\n        text = ''\n        for page in reader.pages:\n            text += page.extract_text() + ' '\n    return text.strip()\n\n# Function to extract text from DOCX\ndef extract_docx_text(docx_path):\n    \"\"\"\n    Extracts text from a DOCX file.\n    \"\"\"\n    doc = Document(docx_path)\n    text = ''\n    for paragraph in doc.paragraphs:\n        text += paragraph.text + ' '\n    return text.strip()\n\n# Function to extract text from uploaded resume\ndef extract_resume_text(file_path):\n    \"\"\"\n    Extracts text from resume file (PDF or DOCX).\n    \"\"\"\n    file_extension = file_path.lower().split('.')[-1]\n    \n    if file_extension == 'pdf':\n        return extract_pdf_text(file_path)\n    elif file_extension in ['docx', 'doc']:\n        return extract_docx_text(file_path)\n    else:\n        raise ValueError(\"Unsupported file format. Please upload PDF or DOCX files only.\")\n\n# Function to extract keywords\ndef extract_keywords(text):\n    \"\"\"\n    Extracts relevant keywords from text using NLP.\n    \"\"\"\n    doc = nlp(text.lower())\n    keywords = set()\n    \n    # Comprehensive list of technical and professional skills\n    tech_skills = {\n        'python', 'java', 'javascript', 'sql', 'html', 'css', 'react', 'angular', \n        'vue', 'node.js', 'django', 'flask', 'spring', 'hibernate', 'mongodb', \n        'postgresql', 'mysql', 'oracle', 'aws', 'azure', 'gcp', 'docker', \n        'kubernetes', 'jenkins', 'git', 'github', 'gitlab', 'agile', 'scrum', \n        'kanban', 'jira', 'confluence', 'tensorflow', 'pytorch', 'keras', \n        'pandas', 'numpy', 'scipy', 'matplotlib', 'seaborn', 'tableau', \n        'powerbi', 'excel', 'r', 'scala', 'spark', 'hadoop', 'kafka', \n        'elasticsearch', 'redis', 'graphql', 'rest', 'api', 'microservices',\n        'devops', 'ci/cd', 'linux', 'windows', 'macos', 'bash', 'powershell',\n        'communication', 'leadership', 'teamwork', 'management', 'analytics',\n        'problem-solving', 'debugging', 'testing', 'automation'\n    }\n    \n    # Extract nouns, proper nouns, and technical skills\n    for token in doc:\n        if token.pos_ in ['NOUN', 'PROPN'] and len(token.text) > 2 and token.text.isalpha():\n            keywords.add(token.text)\n        elif token.text in tech_skills:\n            keywords.add(token.text)\n    \n    # Handle multi-word skills and phrases\n    text_lower = text.lower()\n    multi_word_skills = [\n        'machine learning', 'data analysis', 'data science', 'project management',\n        'artificial intelligence', 'deep learning', 'natural language processing',\n        'computer vision', 'big data', 'business intelligence', 'data mining',\n        'software development', 'web development', 'mobile development',\n        'full stack', 'front end', 'back end', 'database management',\n        'cloud computing', 'cyber security', 'network security',\n        'quality assurance', 'user experience', 'user interface'\n    ]\n    \n    for skill in multi_word_skills:\n        if skill in text_lower:\n            keywords.add(skill)\n    \n    return keywords\n\n# Function to calculate ATS score\ndef calculate_ats_score(resume_text, job_description):\n    \"\"\"\n    Calculates similarity score between resume and job description.\n    \"\"\"\n    documents = [resume_text, job_description]\n    vectorizer = TfidfVectorizer(\n        stop_words='english', \n        ngram_range=(1, 2),\n        max_features=1000,\n        lowercase=True\n    )\n    tfidf_matrix = vectorizer.fit_transform(documents)\n    similarity = cosine_similarity(tfidf_matrix[0:1], tfidf_matrix[1:2])[0][0]\n    return similarity * 100\n\n# Function to provide improvement suggestions\ndef get_suggestions(resume_keywords, job_keywords):\n    \"\"\"\n    Provides suggestions based on missing keywords.\n    \"\"\"\n    missing = job_keywords - resume_keywords\n    if missing:\n        missing_list = sorted(list(missing))[:10]  # Top 10 suggestions, sorted\n        return f\"Consider adding these keywords to your resume: {', '.join(missing_list)}\"\n    return \"Excellent! Your resume contains all the key skills from the job description.\"\n\n# Function to provide score interpretation\ndef get_score_feedback(score):\n    \"\"\"\n    Provides feedback based on the ATS score.\n    \"\"\"\n    if score >= 80:\n        return \"Excellent match! Your resume aligns very well with this job.\"\n    elif score >= 65:\n        return \"Good match! Minor improvements could boost your score.\"\n    elif score >= 50:\n        return \"Moderate match. Review suggestions to improve alignment.\"\n    elif score >= 35:\n        return \"Below average match. Consider significant improvements.\"\n    else:\n        return \"Low match. Major revisions recommended to align with job requirements.\"\n\n# Function to visualize the score\ndef visualize_score(score):\n    \"\"\"\n    Creates a visual representation of the ATS score.\n    \"\"\"\n    # Color coding based on score ranges\n    if score >= 80:\n        color = 'green'\n        performance = 'Excellent'\n    elif score >= 65:\n        color = 'lightgreen'\n        performance = 'Good'\n    elif score >= 50:\n        color = 'orange'\n        performance = 'Moderate'\n    elif score >= 35:\n        color = 'red'\n        performance = 'Below Average'\n    else:\n        color = 'darkred'\n        performance = 'Low'\n    \n    plt.figure(figsize=(10, 6))\n    bars = plt.bar(['ATS Match Score'], [score], color=color, alpha=0.8, width=0.6)\n    \n    plt.ylim(0, 100)\n    plt.ylabel('Match Percentage (%)', fontsize=12)\n    plt.title('Resume ATS Match Analysis', fontsize=14, fontweight='bold')\n    \n    # Add score text on the bar\n    plt.text(0, score + 2, f'{score:.1f}%\\n({performance})', \n             ha='center', va='bottom', fontsize=14, fontweight='bold')\n    \n    # Add reference lines\n    plt.axhline(y=80, color='green', linestyle='--', alpha=0.3, label='Excellent (80%+)')\n    plt.axhline(y=65, color='lightgreen', linestyle='--', alpha=0.3, label='Good (65%+)')\n    plt.axhline(y=50, color='orange', linestyle='--', alpha=0.3, label='Moderate (50%+)')\n    plt.axhline(y=35, color='red', linestyle='--', alpha=0.3, label='Below Average (35%+)')\n    \n    plt.legend(loc='upper right')\n    plt.grid(True, alpha=0.3)\n    plt.tight_layout()\n    plt.show()\n\nprint(\"All functions defined successfully.\")"
      ]
    },
    {
      "cell_type": "code",
      "execution_count": null,
      "metadata": {
        "id": "main_checker"
      },
      "outputs": [],
      "source": [
        "# Step 3: Run the ATS Checker\n\ndef run_ats_checker():\n    \"\"\"\n    Main function to run the ATS checker.\n    \"\"\"\n    clear_output(wait=True)\n    \n    print(\"ATS Resume Checker\")\n    print(\"=\" * 50)\n    print(\"This tool analyzes how well your resume matches a job description.\")\n    print(\"Supported formats: PDF, DOC, DOCX\")\n    print(\"\\nStep 1: Upload your resume file\")\n    print(\"Click 'Choose Files' and select your resume...\")\n    \n    # Upload resume file\n    uploaded_files = files.upload()\n    \n    if not uploaded_files:\n        print(\"No file was uploaded. Please try again.\")\n        return\n    \n    file_name = list(uploaded_files.keys())[0]\n    print(f\"Successfully uploaded: {file_name}\")\n    \n    # Extract text from resume\n    try:\n        resume_text = extract_resume_text(file_name)\n        print(f\"Extracted {len(resume_text)} characters from your resume.\")\n        \n        if len(resume_text) < 100:\n            print(\"Warning: Very short resume text extracted. Please ensure your PDF/DOC is readable.\")\n            \n    except Exception as e:\n        print(f\"Error reading file: {e}\")\n        print(\"Please ensure you uploaded a valid PDF or DOC file.\")\n        if os.path.exists(file_name):\n            os.remove(file_name)\n        return\n    \n    print(\"\\n\" + \"=\"*50)\n    print(\"Step 2: Paste the job description below and press Enter:\")\n    print(\"(Paste the complete job posting including requirements and qualifications)\")\n    \n    job_desc = input(\"\\nJob Description: \")\n    \n    if not job_desc.strip():\n        print(\"Job description cannot be empty. Please try again.\")\n        if os.path.exists(file_name):\n            os.remove(file_name)\n        return\n    \n    if len(job_desc.strip()) < 50:\n        print(\"Warning: Job description seems very short. Consider pasting the complete job posting for better analysis.\")\n    \n    print(\"\\nAnalyzing your resume against the job description...\")\n    \n    try:\n        # Extract keywords and calculate score\n        resume_keywords = extract_keywords(resume_text)\n        job_keywords = extract_keywords(job_desc)\n        ats_score = calculate_ats_score(resume_text, job_desc)\n        \n        # Display comprehensive results\n        print(\"\\n\" + \"=\"*60)\n        print(\"ATS MATCH ANALYSIS RESULTS\")\n        print(\"=\"*60)\n        \n        print(f\"\\nATS Match Score: {ats_score:.2f}%\")\n        print(f\"Score Category: {get_score_feedback(ats_score)}\")\n        \n        print(f\"\\nKeyword Analysis:\")\n        print(f\"- Resume keywords found: {len(resume_keywords)}\")\n        print(f\"- Job description keywords: {len(job_keywords)}\")\n        print(f\"- Matching keywords: {len(resume_keywords & job_keywords)}\")\n        \n        matching_keywords = resume_keywords & job_keywords\n        if matching_keywords:\n            print(f\"\\nMatching skills found: {', '.join(sorted(list(matching_keywords))[:15])}\")\n        \n        print(f\"\\nImprovement Suggestions:\")\n        print(get_suggestions(resume_keywords, job_keywords))\n        \n        # Show visualization\n        visualize_score(ats_score)\n        \n        # Provide additional recommendations\n        print(\"\\nAdditional Tips:\")\n        if ats_score < 65:\n            print(\"- Use exact keywords from the job description in your resume\")\n            print(\"- Include relevant skills in your skills section\")\n            print(\"- Tailor your experience descriptions to match job requirements\")\n            print(\"- Use industry-standard terminology\")\n        \n        print(\"- Ensure your resume is in a simple, ATS-friendly format\")\n        print(\"- Use standard section headings (Experience, Skills, Education)\")\n        print(\"- Avoid images, tables, and complex formatting\")\n        \n    except Exception as e:\n        print(f\"Error during analysis: {e}\")\n    \n    finally:\n        # Clean up uploaded file\n        if os.path.exists(file_name):\n            os.remove(file_name)\n            print(f\"\\nTemporary file '{file_name}' removed.\")\n    \n    print(\"\\n\" + \"=\"*60)\n    print(\"Analysis Complete!\")\n    print(\"=\"*60)\n\nprint(\"ATS Checker ready to use.\")"
      ]
    },
    {
      "cell_type": "code",
      "execution_count": null,
      "metadata": {
        "id": "run_checker"
      },
      "outputs": [],
      "source": [
        "# Step 3: Start the ATS Analysis\n\n# Run this cell to start the ATS checking process\nrun_ats_checker()"
      ]
    },
    {
      "cell_type": "code",
      "execution_count": null,
      "metadata": {
        "id": "test_sample"
      },
      "outputs": [],
      "source": [
        "# Optional: Test with Sample Data\n\n# Uncomment and run this cell to test the functions with sample data\n\ndef test_sample_data():\n    sample_resume = \"\"\"\n    John Smith\n    Software Engineer\n    \n    Professional Experience:\n    Software Developer at Tech Corp (2020-2023)\n    - Developed web applications using Python and Django\n    - Implemented machine learning models for data analysis\n    - Managed PostgreSQL databases and wrote complex SQL queries\n    - Collaborated with cross-functional teams using Agile methodology\n    - Used Git for version control and Jenkins for CI/CD\n    \n    Technical Skills:\n    Python, JavaScript, SQL, Django, React, PostgreSQL, Git, AWS, Docker\n    Machine Learning, Data Analysis, Agile, Scrum\n    \n    Education:\n    Bachelor of Science in Computer Science\n    \"\"\"\n    \n    sample_job = \"\"\"\n    Senior Software Engineer Position\n    \n    Requirements:\n    - 3+ years of Python development experience\n    - Strong knowledge of machine learning and data analysis\n    - Experience with SQL databases (PostgreSQL preferred)\n    - Frontend development with React.js\n    - Cloud services experience (AWS, Docker)\n    - Knowledge of Agile development practices\n    - Experience with version control (Git)\n    - Strong problem-solving and communication skills\n    \n    Preferred Qualifications:\n    - Experience with Kubernetes\n    - Knowledge of microservices architecture\n    - Bachelor's degree in Computer Science or related field\n    \"\"\"\n    \n    print(\"Testing with sample data:\")\n    print(\"=\" * 40)\n    \n    resume_kw = extract_keywords(sample_resume)\n    job_kw = extract_keywords(sample_job)\n    score = calculate_ats_score(sample_resume, sample_job)\n    \n    print(f\"Sample ATS Score: {score:.2f}%\")\n    print(f\"Resume Keywords ({len(resume_kw)}): {sorted(list(resume_kw))[:15]}\")\n    print(f\"Job Keywords ({len(job_kw)}): {sorted(list(job_kw))[:15]}\")\n    print(f\"\\n{get_suggestions(resume_kw, job_kw)}\")\n    \n    visualize_score(score)\n\n# Uncomment the line below to run the test\n# test_sample_data()"
      ]
    }
  ],
  "metadata": {
    "colab": {
      "provenance": [],
      "authorship_tag": "ABX9TyNHu0/D7htgf+qQfSbhYpIc",
      "include_colab_link": true
    },
    "kernelspec": {
      "display_name": "Python 3",
      "name": "python3"
    },
    "language_info": {
      "name": "python"
    }
  },
  "nbformat": 4,
  "nbformat_minor": 0
}
